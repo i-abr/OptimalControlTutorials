{
 "cells": [
  {
   "cell_type": "markdown",
   "metadata": {},
   "source": [
    "## Indirect (shooting) method for optimal control with Jax #\n",
    "\n",
    "**Abstract** : \n",
    "Optimal control methods have been around for quite some time with the most recent proposed methods (iLQR, DDP, SAC) been developed only recently. What is impressive about these methods is their use in robotics which has led to profound and almost human-like abilities in robot motions. In this article, I will formulate the optimal control problem and present one of the most general method for optimal control commonly referred to as the shooting method. I will also present a simple code-base using `python` and `Jax` for automatic differentiation.  \n",
    "\n",
    "## Continuous dynamical systems with inputs\n",
    "\n",
    "Before we get into the optimal control part, we need to set up the robot dynamics and how we are introducing control input to the robot.\n",
    "\n",
    "Let's consider a general continuous time dynamical system (a.k.a. robot) with input of the form \n",
    "\n",
    "$$ \n",
    "    \\dot{x}(t) = f(x(t),u(t))\n",
    "$$\n",
    "\n",
    "where $x(t) \\in \\mathbb{R}^n$ is the state of the dynamical system at time $t$, $u(t) \\in \\mathbb{R}^m$ is the control input to the dynamical system at time $t$, and $f(x, u): \\mathbb{R}^{n \\times m} \\to \\mathbb{R}^n$ is the (often nonlinear) mapping that takes the state and control and returns the instantaneous change of the state $\\dot{x}\\in \\mathbb{R}^n$. Often, these types of dynamical systems are written using the integral form:\n",
    "\n",
    "$$\n",
    "    x(t_t) = x(t_0) + \\int_{t_0}^{t_f} f(x(t), u(t) ) dt \n",
    "$$\n",
    "\n",
    "where the integration starts at some initial condition $x(t_0)$ at time $t_0$ and integrates forward $x(t)$ onto time $t_f$. Note that this formulation assumes that $u$ and $x$ are both continuous in $t$ (same goes for $f(x,u)$, but not always true). The integration can be done using any choice of integration method (RK4, Euler, etc.).\n",
    "\n",
    "Our first step is to import the libraries to create the dynamics that we will be working with."
   ]
  },
  {
   "cell_type": "code",
   "execution_count": 4,
   "metadata": {
    "ExecuteTime": {
     "end_time": "2019-04-30T18:54:22.333534Z",
     "start_time": "2019-04-30T18:54:20.449806Z"
    }
   },
   "outputs": [],
   "source": [
    "import jax.numpy as np # imports numpy for vector-matrix math\n",
    "from jax import grad, jit, vmap, jacfwd # all the derivative and gradients\n",
    "from tqdm import tqdm, trange\n",
    "# %matplotlib notebook\n",
    "import matplotlib.pyplot as plt"
   ]
  },
  {
   "cell_type": "markdown",
   "metadata": {},
   "source": [
    "For our first example, we are going to use the following nonlinear dynamical system:\n",
    "\n",
    "$$\n",
    "    \\dot{x} = f(x, u) = \\begin{bmatrix} -0.1 && -1.0 \\\\ 1.0 && -0.1 \\end{bmatrix} \\begin{bmatrix}  x_1^3 \\\\ x_2\\end{bmatrix} + \\begin{bmatrix} 1.0 && 0. \\\\ 0. && 1.0 \\end{bmatrix} u\n",
    "$$\n",
    "\n",
    "where $x = \\left[x_1, x_2 \\right]^\\top$. We will also be needing to use the derivatives with respect to the state and control $\\frac{\\partial f}{\\partial x}, \\frac{\\partial f}{\\partial u}$. To extract this, we will use the `jacfwd` and the `jit` functions to get the forward jacobian and then speed up the computation with `jit`."
   ]
  },
  {
   "cell_type": "code",
   "execution_count": 5,
   "metadata": {
    "ExecuteTime": {
     "end_time": "2019-04-30T18:54:22.339993Z",
     "start_time": "2019-04-30T18:54:22.335013Z"
    }
   },
   "outputs": [],
   "source": [
    "@jit\n",
    "def f(x, u): \n",
    "    A = np.array([[-0.1, -1.0],\n",
    "                [1.0, -0.1]])\n",
    "    B = np.array([[1.0, 0.],\n",
    "                [0., 1.0]])\n",
    "    non_lin_x = np.array([x[0]*x[0]*x[0], x[1]])\n",
    "    return np.dot(A, non_lin_x) + np.dot(B, u)\n",
    "\n",
    "# @jit\n",
    "# def f(x, u):\n",
    "#     p, th, pdot, thdot = x\n",
    "#     thddot = 9.81 * np.sin(th) + u[0] * np.cos(th)\n",
    "#     pddot = u[0]\n",
    "#     return np.array([pdot, thdot, pddot, thddot])\n",
    "\n",
    "# get the jacobians \n",
    "dfdx = jit(jacfwd(f,0))\n",
    "dfdu = jit(jacfwd(f,1))"
   ]
  },
  {
   "cell_type": "markdown",
   "metadata": {},
   "source": [
    "## Objectives in optimal control\n",
    "\n",
    "Now that we have defined this dynamical system let's define the objective (a.k.a. the task)! For those familiar with reinforcement learning, this objective is equivalent to a reward function which assigns a value to the state and control. Here, we use a cost function (negative reward) that we have full knowledge of to define the task for the robot.\n",
    "\n",
    "Let $\\ell(x,u) : \\mathbb{R}^{n \\times m} \\to \\mathbb{R}$ be the running cost and let $m(x):\\mathbb{R}^m \\to \\mathbb{R}$ be the terminal cost. Then the objective function $J(x(t), u(t))$ for $t \\in \\left[t_0, t_f \\right]$ is defined as\n",
    "\n",
    "$$\n",
    "    \\begin{align}\n",
    "        & \\min_{u(t)} \\qquad \\mathcal{J} = m(x(t_f)) + \\int_{t_0}^{t_f} \\ell(x(t), u(t)) dt \\\\\n",
    "        & \\text{subject to } \\dot{x} = f(x(t), u(t)) \\text{ and } x(t_0) = x_0\n",
    "    \\end{align}\n",
    "$$\n",
    "\n",
    "where we add the dynamics and the initial condition as a constraint to the objective function $\\mathcal{J}$.\n",
    "\n",
    "For the previously defined dynamical system, the following running cost and terminal cost are\n",
    "\n",
    "$$\n",
    "    \\ell(x, u) = x^\\top x + 0.001 u^\\top u \\text{ and } m(x) = x^\\top x.\n",
    "$$\n",
    "\n",
    "The control sequence $u(t)$ that solve this particular optimal control problem drives the system state $x \\to \\mathbf{0}$.\n",
    "\n",
    "To write this objective down, we will use the `grad` function with `jit` to get the first order derivatives of $\\ell$ and $m$ ($\\frac{\\partial \\ell}{\\partial x},\\frac{\\partial \\ell}{\\partial u},\\frac{\\partial m}{\\partial x}$) with respect to $x$ and $u$ as we will be need those functions to solve for the control problem. "
   ]
  },
  {
   "cell_type": "code",
   "execution_count": 6,
   "metadata": {
    "ExecuteTime": {
     "end_time": "2019-04-30T18:54:22.352460Z",
     "start_time": "2019-04-30T18:54:22.341716Z"
    }
   },
   "outputs": [],
   "source": [
    "@jit\n",
    "def ell(x, u):\n",
    "    return np.dot(x, x) + 1e-3 * np.dot(u, u)\n",
    "\n",
    "@jit\n",
    "def m(x):\n",
    "    return np.dot(x, x)\n",
    "\n",
    "dldx, dldu = jit(grad(ell, 0)), jit(grad(ell, 1))\n",
    "dmdx = jit(grad(m))\n"
   ]
  },
  {
   "cell_type": "markdown",
   "metadata": {},
   "source": [
    "## The Maximum Principle (derived from the Variational derivative)\n",
    "\n",
    "While it is possible to solve the optimal control problem drectly, discretizing in time and imposing the dynamic constriants will ultimately increase computational costs as the discretization becomes finer and the dynamics more complex. Therefore, we will solve this optimal control problem *indirectly* using the Maximum Principle to solve a set of conditions which are met when there is a minima to the objective function. The way we are going to acquire these conditions is through the variational derivative.\n",
    "\n",
    "### Variational Derivative\n",
    "\n",
    "Assume that $\\ell(x,u)$, $m(x)$ are both continuous as differentiable functions.\n",
    "In addition, let's rewrite the objective using the Lagrange multiplier $\\rho(t)$ for the dynamic constraint $\\dot{x} = f(x,u)$.\n",
    "\n",
    "$$\n",
    "    \\mathcal{J} = m(x(t_f)) + \\int_{t_0}^{t_f} \\ell(x(t), u(t)) \n",
    "    + \\rho(t)^\\top\\left( \\dot{x}(t) - f(x(t), u(t) \\right) dt\n",
    "$$\n",
    "\n",
    "Since $\\mathcal{J}$ is continuous in $x, u$ and $t$ then we can take the variational derivative of $\\mathcal{J}$ with respect to $x$ and $u$. This derivative is defined as \n",
    "\n",
    "$$\n",
    "    \\delta \\mathcal{J} = D \\mathcal{J} \\cdot \\delta v = m_x^\\top \\delta x(t_f) \n",
    "        + \\int_{t_0}^{t_f} \\ell_x^\\top \\delta x \n",
    "        + \\ell_u^\\top \\delta u + \\rho^\\top f_x \\delta x \n",
    "        + \\rho^\\top f_u \\delta u - \\rho^\\top \\delta \\dot{x} dt.\n",
    "$$\n",
    "\n",
    "where $\\delta v = \\left[\\delta x, \\delta u \\right]^\\top$ is the variation in the state $\\delta x$ and control $\\delta u$, $D \\mathcal{J}$ is the variational derivative of $\\mathcal{J}$ with respect to $x$ and $u$, and the subscripts denote derivatives terms (i.e., $m_x = \\frac{\\partial m}{\\partial x})$.\n",
    "\n",
    "Note that the term on the right can be evaluated using integration by parts\n",
    "$$\n",
    "    -\\int_{t_0}^{t_f} \\rho^\\top \\delta\\dot{x} dt = - \\rho(t_f)^\\top \\delta x(t_f) + \\rho(t_0)^\\top \\delta x(t_0) + \\int_{t_0}^{t_f} \\dot{\\rho}^\\top \\delta x dt\n",
    "$$\n",
    "\n",
    "therefore the variation $\\delta \\mathcal{J}$ becomes\n",
    "\n",
    "$$\n",
    "    \\delta \\mathcal{J}  = m_x(x(t_f))^\\top \\delta x(t_f) \n",
    "            + \\int_{t_0}^{t_f} (\\ell_u^\\top  + \\rho^\\top f_u) \\delta u dt\n",
    "            + \\int_{t0}^{t_f} (\\ell_x^\\top + \\rho^\\top f_x + \\dot{\\rho}^\\top) \\delta x dt \n",
    "            - \\rho(t_f)^\\top \\delta x(t_f) + \\rho(t_0)^\\top \\delta x(t_0)\n",
    "$$\n",
    "\n",
    "### Necessary conditions for optimality (Pontryagin's maximum principle)\n",
    "\n",
    "What is fascinating about $\\delta \\mathcal{J}$ is that it is split up into three parts: state variation $\\delta x$, control variation $\\delta u$ and boundary conditions $\\delta x(t_0), \\delta x(t_f)$. If each of these portions of the variation are equal to zero (i.e., $\\delta \\mathcal{J} = 0$), that would suggest that the solution $u(t), x(t)$ is at a optimum for the objective function (think of taking the gradient of a function and setting the gradient equal to zero to solve the objective). Since we know how to solve this type of optimization problem, let's set each component equal to zero and try to solve the system of equations\n",
    "\n",
    "$$\n",
    "\\begin{align}\n",
    "    \\ell_u + f_u^\\top \\rho  & = 0 \\\\\n",
    "    \\ell_x + f_x^\\top \\rho + \\dot{\\rho} &  = 0 \\\\ \n",
    "    m_x(x(t_f)) - \\rho(t_f)  & = 0\n",
    "\\end{align}\n",
    "$$\n",
    "\n",
    "Note that the last two conditions define the following differential equation\n",
    "\n",
    "$$\n",
    "\\begin{align}\n",
    "     & \\dot{\\rho} = - \\ell_x - f_x^\\top \\rho \\\\\n",
    "     & \\text{ subject to } \\rho(t_f) = m_x (x(t_f))\n",
    "\\end{align}\n",
    "$$\n",
    "\n",
    "which is solved backwards in time (starting from the boundary condition $x(t_f) = m_x$. Note that we assume that $x(t_0)$ does not change, therefore the variation $\\delta x(t_0) = 0$.\n",
    "\n",
    "Now if you think deeply about the set of equations, we can see that these conditions make a pretty powerful statement! We can propose a sequence of controls $u(t)$ and evaluate if it is suboptimal through evaluating these equations. The more interesting question is how exactly can we get $u(t)$ such that the optimality conditions are met from the system of equations?\n",
    "\n",
    "Here is where we get to the interesting part (and where all the derivative terms we initially constructed come into play. Let's try to solve the system of equations given an initial guess of $u(t)$ and iteratively upate that initial guess.\n",
    "\n",
    "### Shooting method\n",
    "\n",
    "To solve this kind of problem you first need to see what the resulting trajectory $x(t)$ is given the control sequence $u(t)$. Then you calculate the boundary condition (i.e., $\\rho(t_f)$) and solve the second equation backwards in time. The first equation tells us the condition that the control has to satisfy, and as it turns out is the exact solution to the gradient of the control at each instance in time (if you write out the control Hamiltonian you can see it for yourself). This procedure is then the start of the shooting method for solving optimal control problems.\n",
    "\n",
    "The iterative algorithm goes as follows: \n",
    "\n",
    "Given $x_0$ set an arbitrary $u(t)$ for $t \\in \\left[t_0, t_f \\right]$ loop the following\n",
    "1. forward simulate $x_0$ using $\\dot{x} = f(x, u)$ for time $t_0 \\to t_f$. (forward pass)\n",
    "2. evaluate $m_x(x(t_f))$ and simulate the Lagrange multiplier $\\rho(t)$ backwards in time starting from $\\rho(t_f) = m_x(x(t_f))$ (backward pass)\n",
    "3. at each time step, let $\\delta u = - \\gamma ( \\ell_u + f_u^\\top \\rho)$ where $\\gamma$ is the step size for the contol gradient\n",
    "4. let $u = u + \\delta u$\n",
    "* repeat until $\\delta u$ is near zero.\n",
    "\n",
    "We will code this algorithm in two parts, the forward pass and the backward pass that takes in the derivative terms that we calculated and the candidate set of controls. "
   ]
  },
  {
   "cell_type": "code",
   "execution_count": 22,
   "metadata": {
    "ExecuteTime": {
     "end_time": "2019-04-30T18:54:22.367505Z",
     "start_time": "2019-04-30T18:54:22.361436Z"
    }
   },
   "outputs": [],
   "source": [
    "def forward_pass(x_0, u, dt=0.01):\n",
    "    x    = []\n",
    "    x_t  = x_0.copy()\n",
    "    cost = 0.0\n",
    "    for t, u_t in enumerate(u): \n",
    "        x.append(x_t)\n",
    "        cost += ell(x_t, u_t) * dt\n",
    "        x_t = x_t + f(x_t, u_t) * dt\n",
    "    return x, cost, x_t\n",
    "\n",
    "def backward_pass(x, u, x_f, dt=0.01, step_size=1e-1):\n",
    "    u_star = []\n",
    "    costate = []\n",
    "    rho = dmdx(x_f)\n",
    "    for x_t, u_t in zip(x[::-1], u[::-1]):\n",
    "        costate.append(rho)\n",
    "        rho_dot = - dldx(x_t, u_t) - np.dot(dfdx(x_t, u_t).T, rho)\n",
    "        rho = rho - rho_dot * dt\n",
    "        du = dldu(x_t, u_t) + np.dot(dfdu(x_t, u_t).T, rho)\n",
    "        u_star.append(u_t - step_size * du)\n",
    "    costate.append(rho)\n",
    "    return u_star[::-1], costate[::-1]"
   ]
  },
  {
   "cell_type": "markdown",
   "metadata": {},
   "source": [
    "We are going to first initialize some parameters and also discretize time (we are going to use Euler integration, but any integration scheme will work)"
   ]
  },
  {
   "cell_type": "code",
   "execution_count": 34,
   "metadata": {
    "ExecuteTime": {
     "end_time": "2019-04-30T18:54:22.918857Z",
     "start_time": "2019-04-30T18:54:22.368754Z"
    }
   },
   "outputs": [],
   "source": [
    "# some parameters \n",
    "max_iter  = 100\n",
    "tf        = 2\n",
    "dt        = 0.1 # time step\n",
    "N         = int(tf/dt)\n",
    "threshold = 0.001\n",
    "step_size = 1e-2\n",
    "\n",
    "# initialize the control with a random sequence of actions\n",
    "u = [np.array([.1, -.1]) * np.sin(t*0.1) for t in range(N)]\n",
    "x0 = np.array([-2.1,1.0]) # initial condition"
   ]
  },
  {
   "cell_type": "code",
   "execution_count": 35,
   "metadata": {
    "ExecuteTime": {
     "end_time": "2019-04-30T18:54:55.904320Z",
     "start_time": "2019-04-30T18:54:22.920509Z"
    },
    "scrolled": true
   },
   "outputs": [
    {
     "name": "stderr",
     "output_type": "stream",
     "text": [
      "Current Cost: 1.2003618478775024: 100%|██████████| 100/100 [00:05<00:00, 19.67it/s]\n"
     ]
    }
   ],
   "source": [
    "trajectories = []\n",
    "costates = []\n",
    "costs = []\n",
    "with tqdm(total=max_iter) as pbar:\n",
    "    for k in range(max_iter):\n",
    "        x, cost, x_f = forward_pass(x0, u, dt)\n",
    "        u, costate = backward_pass(x, u, x_f, dt, step_size)\n",
    "        x, cost, x_f = forward_pass(x0, u, dt)\n",
    "        cost += m(x_f)\n",
    "        pbar.set_description('Current Cost: {}'.format(cost))\n",
    "        pbar.update()\n",
    "        if k % 20 == 0:\n",
    "            trajectories.append(x)\n",
    "            costs.append(cost)\n",
    "            costates.append(costate)"
   ]
  },
  {
   "cell_type": "markdown",
   "metadata": {},
   "source": [
    "Let's visualize what this looks like!"
   ]
  },
  {
   "cell_type": "code",
   "execution_count": 36,
   "metadata": {},
   "outputs": [
    {
     "data": {
      "text/plain": [
       "[<matplotlib.lines.Line2D at 0x7fcf685a47b8>,\n",
       " <matplotlib.lines.Line2D at 0x7fcf70229d30>]"
      ]
     },
     "execution_count": 36,
     "metadata": {},
     "output_type": "execute_result"
    },
    {
     "data": {
      "image/png": "[encoded data removed]",
      "text/plain": [
       "<Figure size 432x288 with 1 Axes>"
      ]
     },
     "metadata": {
      "needs_background": "light"
     },
     "output_type": "display_data"
    }
   ],
   "source": [
    "plt.plot(costates[0])\n",
    "plt.plot(trajectories[0])"
   ]
  },
  {
   "cell_type": "code",
   "execution_count": 37,
   "metadata": {
    "ExecuteTime": {
     "end_time": "2019-04-30T18:54:56.247958Z",
     "start_time": "2019-04-30T18:54:55.906241Z"
    }
   },
   "outputs": [
    {
     "data": {
      "image/png": "[encoded data removed]",
      "text/plain": [
       "<Figure size 720x288 with 2 Axes>"
      ]
     },
     "metadata": {
      "needs_background": "light"
     },
     "output_type": "display_data"
    }
   ],
   "source": [
    "fig, axs = plt.subplots(1, 2, figsize=(10,4))\n",
    "for i, x in enumerate(trajectories):\n",
    "    x = np.stack(x)\n",
    "    axs[0].plot(x[:,0], x[:,1], label='iter {}'.format(i*10))\n",
    "#     axs[0].plot(x[:,1], label='iter {}'.format(i*10))\n",
    "axs[1].plot(np.stack(costs), label='iter {}'.format(i*10))\n",
    "axs[0].set_xlabel('x')\n",
    "axs[0].set_ylabel('y')\n",
    "axs[0].set_title('x-y trajectory')\n",
    "axs[0].legend()\n",
    "axs[1].set_xlabel('iteration x 10 ')\n",
    "axs[1].set_ylabel('cost')\n",
    "axs[1].set_title('cost over iteration')\n",
    "plt.savefig('indirect-opt-control-ex1.png')\n",
    "plt.show()"
   ]
  },
  {
   "cell_type": "markdown",
   "metadata": {},
   "source": [
    "We can see that each step works towards improving the cost function and completing the task. You can use this formation for almost any problem so long as it is not an impossible task and the system has continuous derivatives. Many of the most common optimal controllers and trajectory planners (like iLQR) work in similar manner with a forward and backward pass\n",
    "\n",
    "Let's updating system with a different task. Here, we will use the planar vertical takeoff-and-landing vehicle (vtol) with the task of doing a backflip. The dynamics of the vtol are given by\n",
    "\n",
    "$$\n",
    "    \\frac{d}{dt}\\begin{bmatrix} x \\\\ y \\\\ \\theta \\\\ \\dot{x} \\\\ \\dot{y} \\\\ \\dot{\\theta}\\end{bmatrix} \n",
    "    = \\begin{bmatrix} \\dot{x} \\\\ \\dot{y} \\\\ \\dot{\\theta} \\\\ -u_1 \\sin (\\theta) + \\epsilon u_2 \\cos (\\theta) \\\\ u_1 \\cos (\\theta) + \\epsilon u_2 \\sin (\\theta) - g \\\\ u_2\\end{bmatrix}\n",
    "$$\n",
    "\n",
    "where $g$ is gravity and $\\epsilon \\in [0, 1]$ represents the coupling between rolling and side movements which we set as $0.5$ .\n",
    "\n",
    "Let's get this vtol to flip which we will define as the following objective function \n",
    "\n",
    "$$\n",
    "    \\ell(s,u) = 0.001 u^\\top u \\qquad m(s) = (s - s_d)^\\top Q (s - s_d)^\\top\n",
    "$$\n",
    "\n",
    "where $s = \\left[ x, y, \\theta, \\dot{x}, \\dot{y}, \\dot{\\theta} \\right]^\\top$, $s_d = \\left[ 4, 0, 2 \\pi, 0, 0, 0 \\right]^\\top$, $u = \\left[ u_1, u_2 \\right]^\\top$, and  $Q = \\text{diag}\\left( 1, 1, 20, 0.1, 0.1, 20\\right)$. Below we write this out in the same way we wrote the model (overriding the first example) and the objective in the first example."
   ]
  },
  {
   "cell_type": "code",
   "execution_count": 9,
   "metadata": {
    "ExecuteTime": {
     "end_time": "2019-04-30T18:54:56.259116Z",
     "start_time": "2019-04-30T18:54:56.249782Z"
    }
   },
   "outputs": [],
   "source": [
    "@jit\n",
    "def f(s, a):\n",
    "    eps = 0.5\n",
    "    x, y, th, xt, yt, tht = s\n",
    "    u1, u2 = a\n",
    "    xtt = - u1 * np.sin(th) + eps * u2 * np.cos(th)\n",
    "    ytt = u1 * np.cos(th) + eps * u2 * np.sin(th) - 9.81\n",
    "    thtt = u2\n",
    "    return np.array([xt, yt, tht, xtt, ytt, thtt])\n",
    "\n",
    "@jit\n",
    "def ell(x, u):\n",
    "    return 1e-4 * np.dot(u, u)\n",
    "@jit\n",
    "def m(x):\n",
    "    target = np.array([4, 0., 2.0 * np.pi, 0., 0.0, 0.])\n",
    "    weights = np.array([1.0, 1.0, 20., 0.1, 0.1, 20.])\n",
    "    dx = x - target\n",
    "    return np.sum(np.square(dx) * weights)\n",
    "\n",
    "dfdx, dfdu = jit(jacfwd(f, 0)), jit(jacfwd(f, 1))\n",
    "dldx, dldu = jit(grad(ell)), jit(grad(ell, 1))\n",
    "dmdx = jit(grad(m))\n"
   ]
  },
  {
   "cell_type": "markdown",
   "metadata": {},
   "source": [
    "We reinitialize the environment and updated the parameters and the initial seed $u(t)$. You should play with these parameters to see their effect on the resulting control signal and the state. "
   ]
  },
  {
   "cell_type": "code",
   "execution_count": 10,
   "metadata": {
    "ExecuteTime": {
     "end_time": "2019-04-30T18:54:56.461621Z",
     "start_time": "2019-04-30T18:54:56.260746Z"
    }
   },
   "outputs": [],
   "source": [
    "# some parameters \n",
    "max_iter  = 1000\n",
    "dt        = 0.1\n",
    "tf        = 3\n",
    "N         = int(tf/dt)\n",
    "threshold = 0.01\n",
    "step_size = 3e-4\n",
    "\n",
    "# initialize the control with a random sequence of actions\n",
    "u = [np.array([15., .2]) for t in range(N)]\n",
    "x0 = np.array([0., 0., 0., 0., 0., 0.])"
   ]
  },
  {
   "cell_type": "code",
   "execution_count": 11,
   "metadata": {
    "ExecuteTime": {
     "end_time": "2019-04-30T18:55:39.953257Z",
     "start_time": "2019-04-30T18:54:56.463301Z"
    }
   },
   "outputs": [
    {
     "name": "stderr",
     "output_type": "stream",
     "text": [
      "Current Cost: 4.869: 100%|██████████| 1000/1000 [01:02<00:00, 16.02it/s]  \n"
     ]
    }
   ],
   "source": [
    "trajectories = []\n",
    "costs = []\n",
    "with tqdm(total=max_iter) as pbar:\n",
    "    for k in range(max_iter):\n",
    "        x, cost, x_f = forward_pass(x0, u, dt)\n",
    "        u = backward_pass(x, u, x_f, dt, step_size)\n",
    "        cost += m(x_f)        \n",
    "\n",
    "        if k % 20 == 0:\n",
    "            trajectories.append(x)\n",
    "            costs.append(cost)\n",
    "            pbar.set_description('Current Cost: {:.4}'.format(cost))\n",
    "            pbar.update(20)"
   ]
  },
  {
   "cell_type": "markdown",
   "metadata": {},
   "source": [
    "This part is optional, but if you wanted to see a visualization of the vtol backflip, checkout the jupyter notebook and run the following two cells. "
   ]
  },
  {
   "cell_type": "code",
   "execution_count": 12,
   "metadata": {},
   "outputs": [],
   "source": [
    "from vtol import VTOLEnv\n",
    "import time\n",
    "env = VTOLEnv()"
   ]
  },
  {
   "cell_type": "code",
   "execution_count": 14,
   "metadata": {},
   "outputs": [],
   "source": [
    "env.reset()\n",
    "for u_t in u:\n",
    "    env.step(u_t)\n",
    "    env.render()\n",
    "    time.sleep(1/10)"
   ]
  },
  {
   "cell_type": "markdown",
   "metadata": {},
   "source": [
    "Here we are going to visualize the trajectories from sim and plot the cost over each iteration."
   ]
  },
  {
   "cell_type": "code",
   "execution_count": 15,
   "metadata": {},
   "outputs": [
    {
     "data": {
      "image/png": "[encoded data removed]",
      "text/plain": [
       "<Figure size 720x288 with 2 Axes>"
      ]
     },
     "metadata": {
      "needs_background": "light"
     },
     "output_type": "display_data"
    }
   ],
   "source": [
    "fig, axs = plt.subplots(1, 2, figsize=(10,4))\n",
    "for i, x in enumerate(trajectories[1::10]):\n",
    "    x = np.stack(x)\n",
    "    axs[0].plot(x[:,0], x[:,1], label='iter {}'.format(i*20*10+1))\n",
    "axs[1].plot(np.stack(costs), label='iter {}'.format(i*10))\n",
    "axs[0].set_xlabel('x')\n",
    "axs[0].set_ylabel('y')\n",
    "axs[0].set_title('x-y trajectory')\n",
    "axs[0].legend()\n",
    "axs[1].set_xlabel('iteration x 20 ')\n",
    "axs[1].set_ylabel('cost')\n",
    "axs[1].set_title('cost over iteration')\n",
    "plt.savefig('indirect-opt-control-ex2.png')\n",
    "\n",
    "plt.show()"
   ]
  },
  {
   "cell_type": "markdown",
   "metadata": {},
   "source": [
    "## Modeling errors -- Sim-to-Sim examples \n",
    "\n",
    "With the popularity of sim-to-real methods I thought it might be interesting to show how model-mismatch would affect sim-to-sim transfer of this optimal control technique as this was common practice in earlier robotics research. Since we have the vtol environment, we can update the `eps` property in the environment class changing the $\\epsilon$ parameter. We can then run the already calculated control sequence on the vtol for backfliping to compare. I encourage the reader to play with this as much as they want in the full Jupyter notebook that was used to create this post!"
   ]
  },
  {
   "cell_type": "code",
   "execution_count": 16,
   "metadata": {},
   "outputs": [],
   "source": [
    "env.eps = 0.5\n",
    "env.reset()\n",
    "exact_trajectory = []\n",
    "for u_t in u:\n",
    "    state = env.step(u_t)\n",
    "    exact_trajectory.append(state)\n",
    "    env.render()\n",
    "    time.sleep(1/10)\n",
    "\n",
    "env.eps = 0.8\n",
    "env.reset()\n",
    "mm_trajectory = [] # model mismatch\n",
    "for u_t in u:\n",
    "    state = env.step(u_t)\n",
    "    mm_trajectory.append(state)\n",
    "    env.render()\n",
    "    time.sleep(1/10)"
   ]
  },
  {
   "cell_type": "code",
   "execution_count": 18,
   "metadata": {},
   "outputs": [
    {
     "data": {
      "image/png": "[encoded data removed]",
      "text/plain": [
       "<Figure size 432x288 with 1 Axes>"
      ]
     },
     "metadata": {
      "needs_background": "light"
     },
     "output_type": "display_data"
    }
   ],
   "source": [
    "mm_trajectory = np.stack(mm_trajectory)\n",
    "exact_trajectory = np.stack(exact_trajectory)\n",
    "plt.plot(mm_trajectory[:,0], mm_trajectory[:,1], label='model mismatch')\n",
    "plt.plot(exact_trajectory[:,0], exact_trajectory[:,1], label='exact model')\n",
    "plt.xlabel('x')\n",
    "plt.ylabel('y')\n",
    "plt.legend()\n",
    "plt.savefig('indirect-opt-control-ex3.png')\n",
    "\n",
    "plt.show()"
   ]
  },
  {
   "cell_type": "markdown",
   "metadata": {},
   "source": [
    "## Concluding remarks\n",
    "\n",
    "You can see that the slight deviation from the exact model causes the generated trajectories to deviate which results in the robot ending up at a different target point. Often in earlier robotics research, this model-mismatch was often solved using system identification to improve the quality of the model using real-world data. Although, often it is not possible to get such data without having the robot execute dangerous movements that may break. This will be the talking point for the next post on receding horizon control! Hope you enjoyed the post and if you find this helpful in anyway please cite me and follow my research!"
   ]
  },
  {
   "cell_type": "markdown",
   "metadata": {},
   "source": [
    "Please Cite this if you've found it useful and interesting! \n",
    "```\n",
    "@article{abraham2020indirectoptimalcontrol,\n",
    "  title   = \"Introduction to Indirect Optimal Control\",\n",
    "  author  = \"Abraham, Ian\",\n",
    "  journal = \"i-abr.github.io/bloggy-blog\",\n",
    "  year    = \"2020\",\n",
    "  url     = \"https://i-abr.github.io/bloggy-blog/\"\n",
    "```"
   ]
  },
  {
   "cell_type": "code",
   "execution_count": null,
   "metadata": {},
   "outputs": [],
   "source": []
  }
 ],
 "metadata": {
  "kernelspec": {
   "display_name": "Python 3",
   "language": "python",
   "name": "python3"
  },
  "language_info": {
   "codemirror_mode": {
    "name": "ipython",
    "version": 3
   },
   "file_extension": ".py",
   "mimetype": "text/x-python",
   "name": "python",
   "nbconvert_exporter": "python",
   "pygments_lexer": "ipython3",
   "version": "3.6.9"
  },
  "latex_envs": {
   "LaTeX_envs_menu_present": true,
   "autoclose": false,
   "autocomplete": true,
   "bibliofile": "biblio.bib",
   "cite_by": "apalike",
   "current_citInitial": 1,
   "eqLabelWithNumbers": true,
   "eqNumInitial": 1,
   "hotkeys": {
    "equation": "Ctrl-E",
    "itemize": "Ctrl-I"
   },
   "labels_anchors": false,
   "latex_user_defs": false,
   "report_style_numbering": false,
   "user_envs_cfg": false
  },
  "toc": {
   "base_numbering": 1,
   "nav_menu": {},
   "number_sections": true,
   "sideBar": true,
   "skip_h1_title": false,
   "title_cell": "Table of Contents",
   "title_sidebar": "Contents",
   "toc_cell": false,
   "toc_position": {
    "height": "calc(100% - 180px)",
    "left": "10px",
    "top": "150px",
    "width": "165px"
   },
   "toc_section_display": true,
   "toc_window_display": false
  },
  "varInspector": {
   "cols": {
    "lenName": 16,
    "lenType": 16,
    "lenVar": 40
   },
   "kernels_config": {
    "python": {
     "delete_cmd_postfix": "",
     "delete_cmd_prefix": "del ",
     "library": "var_list.py",
     "varRefreshCmd": "print(var_dic_list())"
    },
    "r": {
     "delete_cmd_postfix": ") ",
     "delete_cmd_prefix": "rm(",
     "library": "var_list.r",
     "varRefreshCmd": "cat(var_dic_list()) "
    }
   },
   "types_to_exclude": [
    "module",
    "function",
    "builtin_function_or_method",
    "instance",
    "_Feature"
   ],
   "window_display": false
  }
 },
 "nbformat": 4,
 "nbformat_minor": 4
}
