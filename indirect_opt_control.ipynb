{
 "cells": [
  {
   "cell_type": "markdown",
   "metadata": {
    "ExecuteTime": {
     "end_time": "2019-04-01T18:41:39.521343Z",
     "start_time": "2019-04-01T18:41:39.515389Z"
    }
   },
   "source": [
    "# Indirect methods for optimal control (The Maximum Principle)\n",
    "This notebook serves as a quick introduction/review of indirect methods of optimal control. Indirect optimal control is an approach for which one can solve optimal control problems by *restating* the optimal control problem into sub-problems. These sub-problems are often easier to solve numerically, computationally faster, and can deal with nonlinearities. \n"
   ]
  },
  {
   "cell_type": "markdown",
   "metadata": {},
   "source": [
    "## Continuous dynamical systems with inputs\n",
    "Let's first consider a general continuous time dynamical system with input of the form \n",
    "$$ \\dot{x}(t) = f(x(t),u(t))$$\n",
    "where $x(t) \\in \\mathbb{R}^n$ is the state of the dynamical system at time $t$, $u(t) \\in \\mathbb{R}^m$ is the control input to the dynamical system at time $t$, and $f(x, u): \\mathbb{R}^{n \\times m} \\to \\mathbb{R}^n$ is the (often nonlinear) mapping that takes the state and control and returns the instantaneous change of the state $\\dot{x}\\in \\mathbb{R}^n$. Often, these types of dynamical systems (e.g., robots) are written using the integral form:\n",
    "$$\n",
    "    x(t_t) = x(t_0) + \\int_{t_0}^{t_f} f(x(t), u(t) ) dt \n",
    "$$\n",
    "where the integration starts at some initial condition $x(t_0)$ at time $t_0$ and integrates forward onto time $t_f$. \n",
    "Note that this formulation assumes that $u$ and $x$ are both continuous in $t$ (same goes for $f(x,u)$, but not always true). The integration can be done using any choice of integration method (RK4, Euler, etc.).\n",
    "\n",
    "We are going to use the following nonlinear dynamical system:\n",
    "$$\n",
    "    \\dot{x} = f(x, u) = \\begin{bmatrix} -0.1 && -1.0 \\\\ 1.0 && -0.1 \\end{bmatrix} \\begin{bmatrix}  x_1^3 \\\\ x_2\\end{bmatrix} + \\begin{bmatrix} 1.0 && 0. \\\\ 0. && 1.0 \\end{bmatrix} u\n",
    "$$\n",
    "where $x = \\left[x_1, x_2 \\right]^\\top$ for our example.\n",
    "\n",
    "In order to build this model we are going to use an autograd library (Google's Jax autodiff lib). To import we do the following:"
   ]
  },
  {
   "cell_type": "code",
   "execution_count": 1,
   "metadata": {
    "ExecuteTime": {
     "end_time": "2019-04-03T16:13:39.898167Z",
     "start_time": "2019-04-03T16:13:38.810033Z"
    }
   },
   "outputs": [],
   "source": [
    "import jax.numpy as np\n",
    "from jax import grad, jit, vmap, jacfwd\n",
    "from jax.numpy import cos, sin, tan, tanh\n",
    "from jax.ops import index, index_add, index_update\n",
    "\n",
    "# %matplotlib notebook\n",
    "import matplotlib.pyplot as plt"
   ]
  },
  {
   "cell_type": "markdown",
   "metadata": {},
   "source": [
    "Let's create a class for the dynamical system called SimpleLinearModel. This will hold the underlying dynamical system and the continuous time derivatives. For optimal control, we are going to need to define the following derivatives $\\frac{\\partial f}{\\partial x}, \\frac{\\partial f}{\\partial u}$. To do that we are going to use the ``jacfwd`` function which stands for jacobian forward mode which uses forward-mode auto-differentiation to get us the derivatives we need."
   ]
  },
  {
   "cell_type": "code",
   "execution_count": 2,
   "metadata": {
    "ExecuteTime": {
     "end_time": "2019-04-03T16:13:40.665981Z",
     "start_time": "2019-04-03T16:13:40.660085Z"
    }
   },
   "outputs": [],
   "source": [
    "class SimpleModel(object):\n",
    "    def __init__(self):\n",
    "        self.num_actions = 2\n",
    "        self.num_states = 2\n",
    "        self.A = np.array([\n",
    "            [-0.1, -1.0],\n",
    "            [1.0, -0.1]\n",
    "        ])\n",
    "        self.B = np.array([\n",
    "            [1.0, 0.],\n",
    "            [0., 1.0]\n",
    "        ])\n",
    "        self.df = jacfwd(self.f) ## this takes the total derivative \n",
    "    def reset(self):\n",
    "        return np.array([1., 2.])\n",
    "        \n",
    "    def f(self, inputs): ### we are going to define this in continuous time \n",
    "        x = inputs['x']\n",
    "        non_lin_x = np.array([x[0]*x[0]*x[0], x[1]])\n",
    "        u = inputs['u']\n",
    "        return np.dot(self.A, non_lin_x) + np.dot(self.B, u)\n"
   ]
  },
  {
   "cell_type": "markdown",
   "metadata": {},
   "source": [
    "## Objectives in optimal control\n",
    "Now that we have defined this dynamical system let's define the objective (a.k.a. the task)! For those familiar with reinforcement learning, this objective is equivalent to a reward function (here it is going to be a cost function). The objective function assigns a worth (or cost) to the state and control combination at each time. Using an objective function allows us to define a task for the dynamical system.\n",
    "\n",
    "Let $\\ell(x,u) : \\mathbb{R}^{n \\times m} \\to \\mathbb{R}$ be the running cost and let $m(x):\\mathbb{R}^m \\to \\mathbb{R}$ be the terminal cost. Then the objective function $J(x(t), u(t))$ for $t \\in \\left[t_0, t_f \\right]$ is defined as\n",
    "$$\n",
    "    J = m(x(t_f)) + \\int_{t_0}^{t_f} \\ell(x(t), u(t)) dt \\\\\n",
    "    \\text{subject to } \\dot{x} = f(x(t), u(t))\n",
    "$$\n",
    "where we add the dynamics as a constraint to the objective function $J$.\n",
    "\n",
    "The goal of optimal control is to find an input $u(t)$ such that $J$ is minimized. We can formally write this as\n",
    "$$\n",
    "    \\min_{u(t)} \\qquad J = m(x(t_f)) + \\int_{t_0}^{t_f} \\ell(x(t), u(t)) dt \\\\\n",
    "    \\text{subject to } \\dot{x} = f(x(t), u(t)) \\nonumber \\\\\n",
    "    \\text{and } x(t_0)  = x_0 \\nonumber\n",
    "$$\n",
    "where we fixed the initial condition. \n",
    "\n",
    "For the previously defined dynamical system, let us define the following running cost and terminal cost:\n",
    "$$\n",
    "    \\ell(x, u) = x^\\top x + 0.001 u^\\top u \\qquad m(x) = x^\\top x.\n",
    "$$\n",
    "This objective is minimized (and solved) when the dynamical system gets its state $x \\to \\mathbf{0}$.\n",
    "\n",
    "We are going to write a class object for the objective function. To do so, we are going to need the derivatives $\\frac{\\partial \\ell}{\\partial x},\\frac{\\partial \\ell}{\\partial u},\\frac{\\partial m}{\\partial x} $ so we will make use of the ``grad`` function."
   ]
  },
  {
   "cell_type": "code",
   "execution_count": 3,
   "metadata": {
    "ExecuteTime": {
     "end_time": "2019-04-03T16:13:43.328459Z",
     "start_time": "2019-04-03T16:13:43.317769Z"
    }
   },
   "outputs": [],
   "source": [
    "class Objective(object):\n",
    "    def __init__(self):\n",
    "        self.dl = grad(self.l)\n",
    "        self.dm = grad(self.m)\n",
    "    \n",
    "    def m(self, x):\n",
    "        return np.dot(x, x)\n",
    "    \n",
    "    def l(self, inputs):\n",
    "        u = inputs['u']\n",
    "        x = inputs['x']\n",
    "        return np.dot(x, x) + 0.001*np.dot(u, u)"
   ]
  },
  {
   "cell_type": "markdown",
   "metadata": {},
   "source": [
    "## The Maximum Principle\n",
    "While it is possible to solve (1) by directly discretizing in time and choosing an integration method and directly imposing the dynamic constraints, we want to solve this optimal control problem in a much more elegant and general way. We will go over solving the same problem the direct way using auto-differentiation in another notebook. In this notebook, we will solve the optimal control problem using the Maximum Principle because it is the basis of many optimal control methods such as LQR, iLQR, DDP, SAC, Collocation, and Shooting Methods. "
   ]
  },
  {
   "cell_type": "markdown",
   "metadata": {},
   "source": [
    "### Variational Derivative\n",
    "We assume that $\\ell(x,u)$, $m(x)$ are both continuous as differentiable functions.\n",
    "Since $J$ is continuous in $x, u$ and $t$ (does not always have to continuous in $t$ if one studies optimal switching in hybrid control theory), then we can take the variational derivative of $J$ with respect to $x$ and $u$\n",
    "$$\n",
    "    \\delta J = D J \\cdot \\delta v = m_x^\\top \\delta x(t_f) + \\int_{t_0}^{t_f} \\ell_x^\\top \\delta x + \\ell_u^\\top \\delta u + \\rho^\\top f_x \\delta x + \\rho^\\top f_u \\delta u - \\rho^\\top \\delta \\dot{x} dt.\n",
    "$$\n",
    "where $\\delta v = \\left[\\delta x, \\delta u \\right]^\\top$ is the variation in the state $\\delta x$ and control $\\delta u$, $D J$ is the derivative of J with respect to $x$ and $u$, and the subscripts denote derivatives terms (i.e., $m_x = \\frac{\\partial m}{\\partial x})$.\n",
    "\n",
    "That last term can be evaluated using integration by parts\n",
    "$$\n",
    "      -\\int_{t_0}^{t_f} \\rho^\\top \\delta\\dot{x} dt = - \\rho(t_f)^\\top \\delta x(t_f) + \\rho(t_0)^\\top \\delta x(t_0) + \\int_{t_0}^{t_f} \\dot{\\rho}^\\top \\delta x dt\n",
    "$$\n",
    "therefore the variation $\\delta J$ becomes\n",
    "$$\n",
    "    \\delta J  = m_x(x(t_f))^\\top \\delta x(t_f) + \\int_{t_0}^{t_f} (\\ell_u^\\top  + \\rho^\\top f_u) \\delta u dt \\\\\n",
    "        \\qquad + \\int_{t0}^{t_f} (\\ell_x^\\top + \\rho^\\top f_x + \\dot{\\rho}^\\top) \\delta x dt \n",
    "        - \\rho(t_f)^\\top \\delta x(t_f) + \\rho(t_0)^\\top \\delta x(t_0)\n",
    "$$"
   ]
  },
  {
   "cell_type": "markdown",
   "metadata": {},
   "source": [
    "## Formal statement of necessary conditions for minimization problem (Pontryagin's maximum principle)\n",
    "We know we are at a minimal solution (possibly optimal) when $\\delta J = 0$.\n",
    "We can see that the optimal control $u(t)$ will satisfy the following equations\n",
    "$$\n",
    "    \\ell_u + f_u^\\top \\rho  = 0\\\\\n",
    "    \\ell_x + f_x^\\top \\rho + \\dot{\\rho} = 0\\\\\n",
    "    m_x(x(t_f)) - \\rho(t_f)  = 0\n",
    "$$\n",
    "Note that the (2) and (3) define the following differential equation\n",
    "$$\n",
    "\\dot{\\rho} = - \\ell_x - f_x^\\top \\rho \\\\\n",
    "\\rho(t_f) = m_x (x(t_f))\n",
    "$$\n",
    "which is solved backwards in time. Now this is a powerful statement! We can say whether a controller $u(t)$ is at least suboptimal if it satisfies equations (1-3). So how exactly can we get $u(t)$?\n",
    "One can quickly take note that we need to solve a backwards differential equation from a forward-time differential equation that defines the dynamics.\n",
    "The simplest way to do this is to following the gradient using Equation (1) as a guide for finding the optimal control $u(t)$ using an initial seed for $u(t)$.\n",
    "\n",
    "Before we go into the general, gradient-based, algorithm, let's first define an environment which combines the dynamics model and the objective into a single class that we can call to step the state forward and compute the derivatives for us. We are going to assume that we are integrating the dynamics forward using an Euler integration (see ``step(self, u)``)."
   ]
  },
  {
   "cell_type": "code",
   "execution_count": 4,
   "metadata": {
    "ExecuteTime": {
     "end_time": "2019-04-03T16:13:45.974439Z",
     "start_time": "2019-04-03T16:13:45.960888Z"
    }
   },
   "outputs": [],
   "source": [
    "class Env(object):\n",
    "\n",
    "    def __init__(self, model, objective, reset=None, time_step = 0.1):\n",
    "        self.time_step = time_step\n",
    "        self.model = model\n",
    "        self.num_actions = self.model.num_actions\n",
    "        self.num_states = self.model.num_states\n",
    "        self.objective = objective \n",
    "        self.reset()\n",
    "    def reset(self):\n",
    "        self.state = self.model.reset()\n",
    "    \n",
    "    def step(self, u):\n",
    "        inputs = {'x' : self.state, 'u' : u}\n",
    "        l = self.objective.l(inputs)\n",
    "        dl = self.objective.dl(inputs)\n",
    "        df = self.model.df(inputs)\n",
    "        # Euler integration happens afterwards\n",
    "        self.state = self.state + self.model.f({'x':self.state, 'u':u}) * self.time_step\n",
    "        return self.state.copy(), l, dl, df\n"
   ]
  },
  {
   "cell_type": "markdown",
   "metadata": {},
   "source": [
    "## Gradient-based General Algorithm (shooting method)\n",
    "The algorithm will resemble a shooting method which works by initializing the control and then \"shooting\" the dynamics forward. The adjoint variable $\\rho(t)$ then acts as a gradient which provides updates the control signal $u(t)$.\n",
    "The algorithm goes as follows: \n",
    "\n",
    "* given $x_0$ set an arbitrary $u(t)$ for $t \\in \\left[t_0, t_f \\right]$\n",
    "* forward propogate $x_0$ using $\\dot{x} = f(x, u)$ for time $t_0 \\to t_f$.\n",
    "* evaluate $m_x(x(t_f))$ and propogate the adjoint $\\rho(t)$ backwards in time starting from $\\rho(t_f) = m_x(x(t_f))$\n",
    "* at each time step, let $\\delta u = - \\gamma ( \\ell_u + f_u^\\top \\rho)$ where $\\gamma$ can be either a matrix values positive definite matrix or a positive scalar (depending on the controls)\n",
    "* let $u = u + \\delta u$\n",
    "* repeat until converged\n"
   ]
  },
  {
   "cell_type": "markdown",
   "metadata": {},
   "source": [
    "Let us first define two functions. The first function is the forward pass and the second is the backwards pass. The forward pass will take in the controls and return a trajectory which contains derivative information. The backwards pass will take the trajectory and terminal condition and solve for the adjoint differential equation. It will return then the updated control sequence. "
   ]
  },
  {
   "cell_type": "code",
   "execution_count": 5,
   "metadata": {
    "ExecuteTime": {
     "end_time": "2019-04-03T16:13:47.998107Z",
     "start_time": "2019-04-03T16:13:47.991932Z"
    }
   },
   "outputs": [],
   "source": [
    "def forward_pass(env, u):\n",
    "    cost = 0.0\n",
    "    trajectory = []\n",
    "    env.reset() # reset env.\n",
    "    for t, u_t in enumerate(u): ## loop through the controls rather than in time. \n",
    "        # step and take the derivatives using the env class\n",
    "        x, l, dl, df = env.step(u_t)\n",
    "        # update the cost\n",
    "        cost += l * env.time_step\n",
    "        # store the local trajectory\n",
    "        trajectory.append((x, u_t, l, dl, df))\n",
    "    return trajectory, cost # return the trajectory and its cost\n",
    "\n",
    "def backward_pass(env, trajectory, rho):\n",
    "    u = [] # initialize an empty container\n",
    "    # loop the recorded trajectory backwards\n",
    "    for i, (x, u_t, l, dl, df) in enumerate(reversed(trajectory)):\n",
    "        # Euler step the adjoint backwards (-dt) using the same env timestep\n",
    "        rho = rho - env.time_step * (-dl['x'] - np.dot(df['x'].T, rho))\n",
    "        du = dl['u'] + np.dot(df['u'].T, rho)\n",
    "        u.append(u_t - step_size * du)\n",
    "    return u[::-1]\n"
   ]
  },
  {
   "cell_type": "markdown",
   "metadata": {},
   "source": [
    "We first initialize the environment, the control sequence, and some parameters:"
   ]
  },
  {
   "cell_type": "code",
   "execution_count": null,
   "metadata": {
    "ExecuteTime": {
     "end_time": "2019-04-02T21:28:04.324446Z",
     "start_time": "2019-04-02T21:28:04.296096Z"
    }
   },
   "outputs": [],
   "source": [
    "env = Env(SimpleModel(), Objective()) # create the environment \n",
    "\n",
    "# some parameters \n",
    "max_iter  = 50\n",
    "tf        = 40\n",
    "threshold = 0.01\n",
    "step_size = 2e-2\n",
    "\n",
    "# initialize the control with a random sequence of actions\n",
    "u = [np.array([-0.1, -0.1]) for t in range(tf)]\n",
    "\n",
    "## some containers\n",
    "trajectories = []"
   ]
  },
  {
   "cell_type": "markdown",
   "metadata": {},
   "source": [
    "We will be using a version of adaptive step-sizes which will help speed up the convergence of the algorithm. Essentially, if the previous cost is less than the current cost, we reduce the step size. This provides us with some wiggle room if we choose a bad initial condition for $u(t)$ or of our step size is too large."
   ]
  },
  {
   "cell_type": "code",
   "execution_count": null,
   "metadata": {
    "ExecuteTime": {
     "end_time": "2019-04-02T20:34:20.926840Z",
     "start_time": "2019-04-02T20:33:56.145185Z"
    },
    "scrolled": true
   },
   "outputs": [],
   "source": [
    "prev_cost = np.inf # initialize the previous cost\n",
    "for k in range(max_iter): # loop through each iteration\n",
    "    \n",
    "    # Forward pass with initial u(t)\n",
    "    trajectory, cost = forward_pass(env, u)\n",
    "    \n",
    "    # save data for later visualization\n",
    "    trajectories.append(trajectory)\n",
    "    # calculate the terminal cost\n",
    "    x, u_t, l, dl, df = trajectory[-1]\n",
    "    cost += env.objective.m(x)\n",
    "        \n",
    "    if k % 10 == 0: # print every 10 steps\n",
    "        print('iter ', k, ' cost ', cost, step_size)\n",
    "    if np.abs(prev_cost - cost) < threshold: ## break when done\n",
    "        break\n",
    "    if prev_cost < cost: ## if the step size is too large, auto reduce\n",
    "        step_size *= 0.2\n",
    "    # define the previous cost\n",
    "    prev_cost = cost\n",
    "    \n",
    "    # compute the terminal condition for the adjoint\n",
    "    rho = env.objective.dm(x)\n",
    "    # compute the backward pass to update the control u(t)\n",
    "    u = backward_pass(env, trajectory, rho)"
   ]
  },
  {
   "cell_type": "markdown",
   "metadata": {},
   "source": [
    "Let's visualize what this looks like!"
   ]
  },
  {
   "cell_type": "code",
   "execution_count": null,
   "metadata": {
    "ExecuteTime": {
     "end_time": "2019-04-02T20:34:21.258667Z",
     "start_time": "2019-04-02T20:34:20.928043Z"
    },
    "scrolled": false
   },
   "outputs": [],
   "source": [
    "for i, trajectory in enumerate(trajectories[::10]):\n",
    "    x_pos = []\n",
    "    y_pos = []\n",
    "    l_hist = []\n",
    "    for x, u_t, l, _, _ in trajectory:\n",
    "        x_pos.append(x[0])\n",
    "        y_pos.append(x[1])\n",
    "        l_hist.append(l)\n",
    "    plt.figure(1)\n",
    "    plt.plot(x_pos, y_pos, label='iter {}'.format(i*10))\n",
    "    plt.figure(2)\n",
    "    plt.plot(l_hist, label='iter {}'.format(i*10))\n",
    "plt.figure(1)\n",
    "plt.xlabel('x')\n",
    "plt.ylabel('y')\n",
    "plt.title('x-y trajectory')\n",
    "plt.legend()\n",
    "plt.figure(2)\n",
    "plt.xlabel('time step')\n",
    "plt.ylabel('cost')\n",
    "plt.title('cost over time')\n",
    "plt.legend()\n",
    "plt.show()"
   ]
  },
  {
   "cell_type": "markdown",
   "metadata": {},
   "source": [
    "We can see that each step works towards improving the cost function and completing the task. You can use this formation for almost any problem so long as it is not an impossible task and the system has continuous derivatives. Many of the most common optimal controllers and trajectory planners (like iLQR) work in similar ways where the focus is on improving the gradients for guaranteed convergence and improved speed ups."
   ]
  },
  {
   "cell_type": "markdown",
   "metadata": {},
   "source": [
    "Let's try using a different dynamical system with a different task. Here, we will use the planar quadrotor with the task of doing a backflip. The dynamics of the planar quadrotor are given by\n",
    "$$\n",
    "    \\frac{d}{dt}\\begin{bmatrix} x \\\\ y \\\\ \\theta \\\\ \\dot{x} \\\\ \\dot{y} \\\\ \\dot{\\theta}\\end{bmatrix} \n",
    "    = \\begin{bmatrix} \\dot{x} \\\\ \\dot{y} \\\\ \\dot{\\theta} \\\\ u_1 \\sin (\\theta) \\\\ u_1 \\cos (\\theta) -g \\\\ u_2\\end{bmatrix}\n",
    "$$\n",
    "where $g$ is gravity.\n",
    "\n",
    "The objective function is then defined as \n",
    "$$\n",
    "    \\ell(x,u) = 0.001 u^\\top u \\qquad m(x) = (\\vec{x} - \\vec{x}_d)^\\top Q (\\vec{x} - \\vec{x}_d)^\\top\n",
    "$$\n",
    "where $\\vec{x} = \\left[ x, y, \\theta, \\dot{x}, \\dot{y}, \\dot{\\theta} \\right]^\\top$, $\\vec{x}_d = \\left[ 8, 0 2 \\pi, 0, 0, 0 \\right]^\\top$, and  $Q = \\text{diag}\\left( 1, 1, 20, 0.1, 0.1, 20\\right)$. Below we write this out in the same way we wrote the model and the objective in the first example."
   ]
  },
  {
   "cell_type": "code",
   "execution_count": 9,
   "metadata": {
    "ExecuteTime": {
     "end_time": "2019-04-03T16:15:01.017697Z",
     "start_time": "2019-04-03T16:15:01.007022Z"
    }
   },
   "outputs": [],
   "source": [
    "class PlanarRotor(object):\n",
    "    def __init__(self):\n",
    "        self.num_actions = 2\n",
    "        self.num_states = 6\n",
    "        self.df = jacfwd(self.f)\n",
    "    def reset(self):\n",
    "        return np.array([0., 0., 0., 0., 0., 0.])\n",
    "    def f(self, inputs):\n",
    "        x = inputs['x']\n",
    "        u = inputs['u']\n",
    "        return np.array([x[3], x[4], x[5],\n",
    "                        u[0]* np.sin(x[2]),\n",
    "                        u[0]* np.cos(x[2]) - 9.81,\n",
    "                        u[1]])\n",
    "\n",
    "class BackFlipObjective(object):\n",
    "    def __init__(self):\n",
    "        self.dl = grad(self.l)\n",
    "        self.dm = grad(self.m)\n",
    "        self.target_state = np.array([8., 0., 2.0 * np.pi, 0., 0., 0.])\n",
    "        self.weights = np.array([1.0, 1.0, 20., 0.1, 0.1, 20.])\n",
    "    def m(self, x):\n",
    "        delta_x = x - self.target_state\n",
    "        return np.sum(np.square(delta_x)*self.weights)\n",
    "    def l(self, inputs):\n",
    "        u = inputs['u']\n",
    "        return 0.001 * np.dot(u, u)"
   ]
  },
  {
   "cell_type": "markdown",
   "metadata": {},
   "source": [
    "We reinitialize the environment and updated the parameters and the initial seed $u(t)$. You should play with these parameters to see their effect on the resulting control signal and the state. "
   ]
  },
  {
   "cell_type": "code",
   "execution_count": 13,
   "metadata": {
    "ExecuteTime": {
     "end_time": "2019-04-03T17:09:02.338501Z",
     "start_time": "2019-04-03T17:09:02.294372Z"
    }
   },
   "outputs": [],
   "source": [
    "env = Env(PlanarRotor(), BackFlipObjective())\n",
    "\n",
    "# some parameters \n",
    "max_iter  = 60\n",
    "tf        = 40\n",
    "threshold = 0.01\n",
    "step_size = 4e-4\n",
    "\n",
    "# initialize the control with a random sequence of actions\n",
    "u = [np.array([20.0, .2]) for t in range(tf)]\n",
    "\n",
    "## some containers\n",
    "trajectories = []\n",
    "cost_hist = []"
   ]
  },
  {
   "cell_type": "code",
   "execution_count": 14,
   "metadata": {
    "ExecuteTime": {
     "end_time": "2019-04-03T17:09:37.452139Z",
     "start_time": "2019-04-03T17:09:03.667617Z"
    }
   },
   "outputs": [
    {
     "name": "stdout",
     "output_type": "stream",
     "text": [
      "iter  0  cost  6100.712 0.0004\n",
      "iter  10  cost  220.72382 0.0004\n",
      "iter  20  cost  79.392784 0.0004\n",
      "iter  30  cost  47.422245 0.0004\n",
      "iter  40  cost  33.00517 0.0004\n",
      "iter  50  cost  24.07226 0.0004\n",
      "iter  59  cost  18.556602 0.0004\n"
     ]
    }
   ],
   "source": [
    "prev_cost = np.inf # initialize the previous cost\n",
    "for k in range(max_iter): # loop through each iteration\n",
    "    \n",
    "    # Forward pass with initial u(t)\n",
    "    trajectory, cost = forward_pass(env, u)\n",
    "    \n",
    "    # save data for later visualization\n",
    "    trajectories.append(trajectory)\n",
    "    # calculate the terminal cost\n",
    "    x, u_t, l, dl, df = trajectory[-1]\n",
    "    cost += env.objective.m(x)\n",
    "        \n",
    "    if k % 10 == 0: # print every 10 steps\n",
    "        print('iter ', k, ' cost ', cost, step_size)\n",
    "    if np.abs(prev_cost - cost) < threshold: ## break when done\n",
    "        break\n",
    "    if prev_cost < cost: ## if the step size is too large, auto reduce\n",
    "        step_size *= 0.2\n",
    "    # define the previous cost\n",
    "    prev_cost = cost\n",
    "    \n",
    "    # compute the terminal condition for the adjoint\n",
    "    rho = env.objective.dm(x)\n",
    "    # compute the backward pass to update the control u(t)\n",
    "    u = backward_pass(env, trajectory, rho)\n",
    "\n",
    "# last iteration\n",
    "print('iter ', k, ' cost ', cost, step_size)"
   ]
  },
  {
   "cell_type": "code",
   "execution_count": 16,
   "metadata": {
    "ExecuteTime": {
     "end_time": "2019-04-03T17:10:47.553739Z",
     "start_time": "2019-04-03T17:10:47.052140Z"
    }
   },
   "outputs": [
    {
     "data": {
      "image/png": "[encoded data removed]",
      "text/plain": [
       "<Figure size 432x288 with 1 Axes>"
      ]
     },
     "metadata": {
      "needs_background": "light"
     },
     "output_type": "display_data"
    },
    {
     "data": {
      "image/png": "[encoded data removed]",
      "text/plain": [
       "<Figure size 432x288 with 1 Axes>"
      ]
     },
     "metadata": {
      "needs_background": "light"
     },
     "output_type": "display_data"
    },
    {
     "data": {
      "image/png": "[encoded data removed]",
      "text/plain": [
       "<Figure size 432x288 with 1 Axes>"
      ]
     },
     "metadata": {
      "needs_background": "light"
     },
     "output_type": "display_data"
    }
   ],
   "source": [
    "for i, trajectory in enumerate(trajectories[5::10]):\n",
    "    x_pos = []\n",
    "    y_pos = []\n",
    "    theta = []\n",
    "    l_hist = []\n",
    "    for x, u_t, l, _, _ in trajectory:\n",
    "        x_pos.append(x[0])\n",
    "        y_pos.append(x[1])\n",
    "        theta.append(x[2])\n",
    "        l_hist.append(l)\n",
    "    plt.figure(1)\n",
    "    plt.plot(x_pos, y_pos, label='iter {}'.format(i*10))\n",
    "    plt.figure(2)\n",
    "    plt.plot(l_hist, label='iter {}'.format(i*10))\n",
    "    plt.figure(3)\n",
    "    plt.plot(theta, label='iter {}'.format(i*10))\n",
    "plt.figure(1)\n",
    "plt.xlabel('x')\n",
    "plt.ylabel('y')\n",
    "plt.title('x-y trajectory')\n",
    "plt.legend()\n",
    "plt.figure(2)\n",
    "plt.xlabel('time step')\n",
    "plt.ylabel('cost')\n",
    "plt.title('cost over time')\n",
    "plt.legend()\n",
    "\n",
    "plt.figure(3)\n",
    "plt.xlabel('time step')\n",
    "plt.ylabel('\\theta')\n",
    "plt.title('angle over time')\n",
    "plt.legend()\n",
    "plt.show()"
   ]
  },
  {
   "cell_type": "code",
   "execution_count": null,
   "metadata": {},
   "outputs": [],
   "source": []
  }
 ],
 "metadata": {
  "kernelspec": {
   "display_name": "Python 3",
   "language": "python",
   "name": "python3"
  },
  "language_info": {
   "codemirror_mode": {
    "name": "ipython",
    "version": 3
   },
   "file_extension": ".py",
   "mimetype": "text/x-python",
   "name": "python",
   "nbconvert_exporter": "python",
   "pygments_lexer": "ipython3",
   "version": "3.6.7"
  },
  "latex_envs": {
   "LaTeX_envs_menu_present": true,
   "autoclose": false,
   "autocomplete": true,
   "bibliofile": "biblio.bib",
   "cite_by": "apalike",
   "current_citInitial": 1,
   "eqLabelWithNumbers": true,
   "eqNumInitial": 1,
   "hotkeys": {
    "equation": "Ctrl-E",
    "itemize": "Ctrl-I"
   },
   "labels_anchors": false,
   "latex_user_defs": false,
   "report_style_numbering": false,
   "user_envs_cfg": false
  },
  "toc": {
   "base_numbering": 1,
   "nav_menu": {},
   "number_sections": true,
   "sideBar": true,
   "skip_h1_title": false,
   "title_cell": "Table of Contents",
   "title_sidebar": "Contents",
   "toc_cell": false,
   "toc_position": {
    "height": "calc(100% - 180px)",
    "left": "10px",
    "top": "150px",
    "width": "165px"
   },
   "toc_section_display": true,
   "toc_window_display": false
  },
  "varInspector": {
   "cols": {
    "lenName": 16,
    "lenType": 16,
    "lenVar": 40
   },
   "kernels_config": {
    "python": {
     "delete_cmd_postfix": "",
     "delete_cmd_prefix": "del ",
     "library": "var_list.py",
     "varRefreshCmd": "print(var_dic_list())"
    },
    "r": {
     "delete_cmd_postfix": ") ",
     "delete_cmd_prefix": "rm(",
     "library": "var_list.r",
     "varRefreshCmd": "cat(var_dic_list()) "
    }
   },
   "types_to_exclude": [
    "module",
    "function",
    "builtin_function_or_method",
    "instance",
    "_Feature"
   ],
   "window_display": false
  }
 },
 "nbformat": 4,
 "nbformat_minor": 2
}
