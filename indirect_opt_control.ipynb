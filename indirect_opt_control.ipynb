{
 "cells": [
  {
   "cell_type": "markdown",
   "metadata": {
    "ExecuteTime": {
     "end_time": "2019-04-01T18:41:39.521343Z",
     "start_time": "2019-04-01T18:41:39.515389Z"
    }
   },
   "source": [
    "Indirect methods for optimal control (The Maximum Principle)\n",
    "============================================================\n",
    "This notebook serves as a quick introduction/review of indirect methods of optimal control. Indirect optimal control is an approach for which one can solve optimal control problems by *restating* the optimal control problem into sub-problems. These sub-problems are often easier to solve numerically, computationally faster, and can deal with nonlinearities. \n"
   ]
  },
  {
   "cell_type": "markdown",
   "metadata": {},
   "source": [
    "## Continuous dynamical systems with inputs\n",
    "Let's first consider a general continuous time dynamical system with input of the form \n",
    "$$ \\dot{x}(t) = f(x(t),u(t))$$\n",
    "where $x(t) \\in \\mathbb{R}^n$ is the state of the dynamical system at time $t$, $u(t) \\in \\mathbb{R}^m$ is the control input to the dynamical system at time $t$, and $f(x, u): \\mathbb{R}^{n \\times m} \\to \\mathbb{R}^n$ is the (often nonlinear) mapping that takes the state and control and returns the instantaneous change of the state $\\dot{x}\\in \\mathbb{R}^n$. Often, these types of dynamical systems (e.g., robots) are written using the integral form:\n",
    "$$\n",
    "    x(t_t) = x(t_0) + \\int_{t_0}^{t_f} f(x(t), u(t) ) dt \n",
    "$$\n",
    "where the integration starts at some initial condition $x(t_0)$ at time $t_0$ and integrates forward onto time $t_f$. \n",
    "Note that this formulation assumes that $u$ and $x$ are both continuous in $t$ (same goes for $f(x,u)$, but not always true). The integration can be done using any choice of integration method (RK4, Euler, etc.).\n",
    "\n",
    "We are going to use the following nonlinear dynamical system:\n",
    "$$\n",
    "    \\dot{x} = f(x, u) = \\begin{bmatrix} -0.1 && -1.0 \\\\ 1.0 && -0.1 \\end{bmatrix} \\begin{bmatrix}  x_1^3 \\\\ x_2\\end{bmatrix} + \\begin{bmatrix} 1.0 && 0. \\\\ 0. && 1.0 \\end{bmatrix} u\n",
    "$$\n",
    "where $x = \\left[x_1, x_2 \\right]^\\top$ for our example.\n",
    "\n",
    "In order to build this model we are going to use an autograd library (Google's Jax autodiff lib). To import we do the following:"
   ]
  },
  {
   "cell_type": "code",
   "execution_count": 1,
   "metadata": {
    "ExecuteTime": {
     "end_time": "2019-04-30T18:54:22.333534Z",
     "start_time": "2019-04-30T18:54:20.449806Z"
    }
   },
   "outputs": [],
   "source": [
    "import jax.numpy as np\n",
    "from jax import grad, jit, vmap, jacfwd\n",
    "from jax.numpy import cos, sin, tan, tanh\n",
    "\n",
    "# %matplotlib notebook\n",
    "import matplotlib.pyplot as plt"
   ]
  },
  {
   "cell_type": "markdown",
   "metadata": {},
   "source": [
    "Let's create a class for the dynamical system called SimpleLinearModel. This will hold the underlying dynamical system and the continuous time derivatives. For optimal control, we are going to need to define the following derivatives $\\frac{\\partial f}{\\partial x}, \\frac{\\partial f}{\\partial u}$. To do that we are going to use the ``jacfwd`` function which stands for jacobian forward mode which uses forward-mode auto-differentiation to get us the derivatives we need."
   ]
  },
  {
   "cell_type": "markdown",
   "metadata": {},
   "source": [
    "Dynamics\n",
    "---------\n",
    "\n",
    "Here we define the continious time dynamics\n",
    "$$\n",
    "    \\dot{x} = f(x,u)\n",
    "$$"
   ]
  },
  {
   "cell_type": "code",
   "execution_count": 2,
   "metadata": {
    "ExecuteTime": {
     "end_time": "2019-04-30T18:54:22.339993Z",
     "start_time": "2019-04-30T18:54:22.335013Z"
    }
   },
   "outputs": [],
   "source": [
    "@jit\n",
    "def f(x, u): \n",
    "    A = np.array([[-0.1, -1.0],\n",
    "                [1.0, -0.1]])\n",
    "    B = np.array([[1.0, 0.],\n",
    "                [0., 1.0]])\n",
    "    non_lin_x = np.array([x[0]*x[0]*x[0], x[1]])\n",
    "    return np.dot(A, non_lin_x) + np.dot(B, u)\n",
    "dfdx = jit(jacfwd(f,0))\n",
    "dfdu = jit(jacfwd(f,1))"
   ]
  },
  {
   "cell_type": "markdown",
   "metadata": {},
   "source": [
    "## Objectives in optimal control\n",
    "Now that we have defined this dynamical system let's define the objective (a.k.a. the task)! For those familiar with reinforcement learning, this objective is equivalent to a reward function (here it is going to be a cost function). The objective function assigns a worth (or cost) to the state and control combination at each time. Using an objective function allows us to define a task for the dynamical system.\n",
    "\n",
    "Let $\\ell(x,u) : \\mathbb{R}^{n \\times m} \\to \\mathbb{R}$ be the running cost and let $m(x):\\mathbb{R}^m \\to \\mathbb{R}$ be the terminal cost. Then the objective function $J(x(t), u(t))$ for $t \\in \\left[t_0, t_f \\right]$ is defined as\n",
    "$$\n",
    "    J = m(x(t_f)) + \\int_{t_0}^{t_f} \\ell(x(t), u(t)) dt\n",
    "$$\n",
    "$$\n",
    "    \\text{subject to } \\dot{x} = f(x(t), u(t))\n",
    "$$\n",
    "where we add the dynamics as a constraint to the objective function $J$.\n",
    "\n",
    "The goal of optimal control is to find an input $u(t)$ such that $J$ is minimized. We can formally write this as\n",
    "$$\n",
    "    \\min_{u(t)} \\qquad J = m(x(t_f)) + \\int_{t_0}^{t_f} \\ell(x(t), u(t)) dt\n",
    "$$\n",
    "$$\n",
    "    \\text{subject to } \\dot{x} = f(x(t), u(t)) \\qquad     \\text{and } x(t_0)  = x_0 \n",
    "$$\n",
    "where we fixed the initial condition. \n",
    "\n",
    "For the previously defined dynamical system, let us define the following running cost and terminal cost:\n",
    "$$\n",
    "    \\ell(x, u) = x^\\top x + 0.001 u^\\top u \\qquad m(x) = x^\\top x.\n",
    "$$\n",
    "This objective is minimized (and solved) when the dynamical system gets its state $x \\to \\mathbf{0}$.\n",
    "\n",
    "We are going to write a class object for the objective function. To do so, we are going to need the derivatives $\\frac{\\partial \\ell}{\\partial x},\\frac{\\partial \\ell}{\\partial u},\\frac{\\partial m}{\\partial x} $ so we will make use of the ``grad`` function."
   ]
  },
  {
   "cell_type": "code",
   "execution_count": 3,
   "metadata": {
    "ExecuteTime": {
     "end_time": "2019-04-30T18:54:22.352460Z",
     "start_time": "2019-04-30T18:54:22.341716Z"
    }
   },
   "outputs": [],
   "source": [
    "@jit\n",
    "def ell(x, u):\n",
    "    return np.dot(x, x) + 1e-3 * np.dot(u, u)\n",
    "@jit\n",
    "def m(x):\n",
    "    return np.dot(x, x)\n",
    "@jit\n",
    "def dldx(x, u):\n",
    "    return grad(ell, 0)(x, u)\n",
    "@jit\n",
    "def dldu(x, u):\n",
    "    return grad(ell, 1)(x, u)\n",
    "@jit\n",
    "def dmdx(x):\n",
    "    return grad(m)(x)"
   ]
  },
  {
   "cell_type": "markdown",
   "metadata": {},
   "source": [
    "## The Maximum Principle\n",
    "While it is possible to solve (1) by directly discretizing in time and choosing an integration method and directly imposing the dynamic constraints, we want to solve this optimal control problem in a much more elegant and general way. We will go over solving the same problem the direct way using auto-differentiation in another notebook. In this notebook, we will solve the optimal control problem using the Maximum Principle because it is the basis of many optimal control methods such as LQR, iLQR, DDP, SAC, Collocation, and Shooting Methods. "
   ]
  },
  {
   "cell_type": "markdown",
   "metadata": {},
   "source": [
    "### Variational Derivative\n",
    "We assume that $\\ell(x,u)$, $m(x)$ are both continuous as differentiable functions.\n",
    "In addition, let's rewrite the objective using a Lagrange multiplier $\\rho(t)$ for the dynamic constraint\n",
    "$\\dot{x} = f(x,u)$.\n",
    "\n",
    "$$\n",
    "    J = m(x(t_f)) + \\int_{t_0}^{t_f} \\ell(x(t), u(t)) \n",
    "    + \\rho(t)^\\top\\left( \\dot{x}(t) - f(x(t), u(t) \\right) dt\n",
    "$$\n",
    "\n",
    "Since $J$ is continuous in $x, u$ and $t$ (does not always have to continuous in $t$ if one studies optimal switching in hybrid control theory), then we can take the variational derivative of $J$ with respect to $x$ and $u$\n",
    "$$\n",
    "    \\delta J = D J \\cdot \\delta v = m_x^\\top \\delta x(t_f) + \\int_{t_0}^{t_f} \\ell_x^\\top \\delta x + \\ell_u^\\top \\delta u + \\rho^\\top f_x \\delta x + \\rho^\\top f_u \\delta u - \\rho^\\top \\delta \\dot{x} dt.\n",
    "$$\n",
    "where $\\delta v = \\left[\\delta x, \\delta u \\right]^\\top$ is the variation in the state $\\delta x$ and control $\\delta u$, $D J$ is the derivative of J with respect to $x$ and $u$, and the subscripts denote derivatives terms (i.e., $m_x = \\frac{\\partial m}{\\partial x})$.\n",
    "\n",
    "That last term can be evaluated using integration by parts\n",
    "$$\n",
    "    -\\int_{t_0}^{t_f} \\rho^\\top \\delta\\dot{x} dt = - \\rho(t_f)^\\top \\delta x(t_f) + \\rho(t_0)^\\top \\delta x(t_0) + \\int_{t_0}^{t_f} \\dot{\\rho}^\\top \\delta x dt\n",
    "$$\n",
    "\n",
    "therefore the variation $\\delta J$ becomes\n",
    "\n",
    "$$\n",
    "    \\delta J  = m_x(x(t_f))^\\top \\delta x(t_f) + \\int_{t_0}^{t_f} (\\ell_u^\\top  + \\rho^\\top f_u) \\delta u dt\n",
    "$$\n",
    "$$\n",
    "        \\qquad + \\int_{t0}^{t_f} (\\ell_x^\\top + \\rho^\\top f_x + \\dot{\\rho}^\\top) \\delta x dt \n",
    "        - \\rho(t_f)^\\top \\delta x(t_f) + \\rho(t_0)^\\top \\delta x(t_0)\n",
    "$$"
   ]
  },
  {
   "cell_type": "markdown",
   "metadata": {},
   "source": [
    "## Formal statement of necessary conditions for minimization problem (Pontryagin's maximum principle)\n",
    "We know we are at a minimal solution (possibly optimal) when $\\delta J = 0$.\n",
    "We can see that the optimal control $u(t)$ will satisfy the following equations\n",
    "$$\n",
    "    \\ell_u + f_u^\\top \\rho  = 0\n",
    "    $$\n",
    "    $$\n",
    "    \\ell_x + f_x^\\top \\rho + \\dot{\\rho} = 0\n",
    "    $$\n",
    "    $$\n",
    "    m_x(x(t_f)) - \\rho(t_f)  = 0\n",
    "$$\n",
    "Note that the (2) and (3) define the following differential equation\n",
    "$$\n",
    "\\dot{\\rho} = - \\ell_x - f_x^\\top \\rho\n",
    "$$\n",
    "$$\n",
    "\\rho(t_f) = m_x (x(t_f))\n",
    "$$\n",
    "which is solved backwards in time. Now this is a powerful statement! We can say whether a controller $u(t)$ is at least suboptimal if it satisfies equations (1-3). So how exactly can we get $u(t)$?\n",
    "One can quickly take note that we need to solve a backwards differential equation from a forward-time differential equation that defines the dynamics.\n",
    "The simplest way to do this is to following the gradient using Equation (1) as a guide for finding the optimal control $u(t)$ using an initial seed for $u(t)$.\n",
    "\n",
    "Before we go into the general, gradient-based, algorithm, let's first define an environment which combines the dynamics model and the objective into a single class that we can call to step the state forward and compute the derivatives for us. We are going to assume that we are integrating the dynamics forward using an Euler integration (see ``step(self, u)``)."
   ]
  },
  {
   "cell_type": "markdown",
   "metadata": {},
   "source": [
    "## Gradient-based General Algorithm (shooting method)\n",
    "The algorithm will resemble a shooting method which works by initializing the control and then \"shooting\" the dynamics forward. The adjoint variable $\\rho(t)$ then acts as a gradient which provides updates the control signal $u(t)$.\n",
    "The algorithm goes as follows: \n",
    "\n",
    "* given $x_0$ set an arbitrary $u(t)$ for $t \\in \\left[t_0, t_f \\right]$\n",
    "* forward propogate $x_0$ using $\\dot{x} = f(x, u)$ for time $t_0 \\to t_f$.\n",
    "* evaluate $m_x(x(t_f))$ and propogate the adjoint $\\rho(t)$ backwards in time starting from $\\rho(t_f) = m_x(x(t_f))$\n",
    "* at each time step, let $\\delta u = - \\gamma ( \\ell_u + f_u^\\top \\rho)$ where $\\gamma$ can be either a matrix values positive definite matrix or a positive scalar (depending on the controls)\n",
    "* let $u = u + \\delta u$\n",
    "* repeat until converged\n"
   ]
  },
  {
   "cell_type": "markdown",
   "metadata": {},
   "source": [
    "Let us first define two functions. The first function is the forward pass and the second is the backwards pass. The forward pass will take in the controls and return a trajectory which contains derivative information. The backwards pass will take the trajectory and terminal condition and solve for the adjoint differential equation. It will return then the updated control sequence. "
   ]
  },
  {
   "cell_type": "code",
   "execution_count": 4,
   "metadata": {
    "ExecuteTime": {
     "end_time": "2019-04-30T18:54:22.367505Z",
     "start_time": "2019-04-30T18:54:22.361436Z"
    }
   },
   "outputs": [],
   "source": [
    "def forward_pass(x_0, u, dt=0.01):\n",
    "    x    = []\n",
    "    x_t  = x_0.copy()\n",
    "    cost = 0.0\n",
    "    for t, u_t in enumerate(u): \n",
    "        x.append(x_t)\n",
    "        cost += ell(x_t, u_t) * dt\n",
    "        x_t = x_t + f(x_t, u_t) * dt\n",
    "    return x, cost, x_t\n",
    "\n",
    "def backward_pass(x, u, x_f, dt=0.01, step_size=1e-1):\n",
    "    u_star = []\n",
    "    rho = dmdx(x_f)\n",
    "    for x_t, u_t in zip(x[::-1], u[::-1]):\n",
    "        rho_dot = - dldx(x_t, u_t) - np.dot(dfdx(x_t, u_t).T, rho)\n",
    "        rho = rho - rho_dot * dt\n",
    "        du = dldu(x_t, u_t) + np.dot(dfdu(x_t, u_t).T, rho)\n",
    "        u_star.append(u_t - step_size * du)\n",
    "    return u_star[::-1]"
   ]
  },
  {
   "cell_type": "markdown",
   "metadata": {},
   "source": [
    "We first initialize the environment, the control sequence, and some parameters:"
   ]
  },
  {
   "cell_type": "code",
   "execution_count": 5,
   "metadata": {
    "ExecuteTime": {
     "end_time": "2019-04-30T18:54:22.918857Z",
     "start_time": "2019-04-30T18:54:22.368754Z"
    }
   },
   "outputs": [
    {
     "name": "stderr",
     "output_type": "stream",
     "text": [
      "/home/burn/.local/lib/python3.6/site-packages/jax/lib/xla_bridge.py:122: UserWarning: No GPU/TPU found, falling back to CPU.\n",
      "  warnings.warn('No GPU/TPU found, falling back to CPU.')\n"
     ]
    }
   ],
   "source": [
    "# some parameters \n",
    "max_iter  = 100\n",
    "tf        = 20 # discrete tf\n",
    "threshold = 0.001\n",
    "step_size = 1e-2\n",
    "dt        = 0.1\n",
    "\n",
    "# initialize the control with a random sequence of actions\n",
    "u = [np.array([-0.1, -0.1]) for t in range(tf)]\n",
    "x0 = np.array([1.,2.])"
   ]
  },
  {
   "cell_type": "markdown",
   "metadata": {},
   "source": [
    "We will be using a version of adaptive step-sizes which will help speed up the convergence of the algorithm. Essentially, if the previous cost is less than the current cost, we reduce the step size. This provides us with some wiggle room if we choose a bad initial condition for $u(t)$ or of our step size is too large."
   ]
  },
  {
   "cell_type": "code",
   "execution_count": 6,
   "metadata": {
    "ExecuteTime": {
     "end_time": "2019-04-30T18:54:55.904320Z",
     "start_time": "2019-04-30T18:54:22.920509Z"
    },
    "scrolled": true
   },
   "outputs": [
    {
     "name": "stdout",
     "output_type": "stream",
     "text": [
      "iter  0  cost  11.918873 0.01\n",
      "iter  20  cost  3.6986253 0.01\n",
      "iter  40  cost  2.0230217 0.01\n",
      "iter  60  cost  1.8226615 0.01\n",
      "iter  80  cost  1.6668154 0.01\n"
     ]
    }
   ],
   "source": [
    "trajectories = []\n",
    "costs = []\n",
    "for k in range(max_iter):\n",
    "    x, cost, x_f = forward_pass(x0, u, dt)\n",
    "    u = backward_pass(x, u, x_f, dt, step_size)\n",
    "    cost += m(x_f)\n",
    "    if k % 20 == 0:\n",
    "        print('iter ', k, ' cost ', cost, step_size)\n",
    "        # for plotting later\n",
    "        trajectories.append(x)\n",
    "        costs.append(cost)\n"
   ]
  },
  {
   "cell_type": "markdown",
   "metadata": {},
   "source": [
    "Let's visualize what this looks like!"
   ]
  },
  {
   "cell_type": "code",
   "execution_count": 7,
   "metadata": {
    "ExecuteTime": {
     "end_time": "2019-04-30T18:54:56.247958Z",
     "start_time": "2019-04-30T18:54:55.906241Z"
    }
   },
   "outputs": [
    {
     "data": {
      "image/png": "[encoded data removed]",
      "text/plain": [
       "<Figure size 432x288 with 1 Axes>"
      ]
     },
     "metadata": {
      "needs_background": "light"
     },
     "output_type": "display_data"
    },
    {
     "data": {
      "image/png": "[encoded data removed]",
      "text/plain": [
       "<Figure size 432x288 with 1 Axes>"
      ]
     },
     "metadata": {
      "needs_background": "light"
     },
     "output_type": "display_data"
    }
   ],
   "source": [
    "# plot every 10th trajectory\n",
    "for i, x in enumerate(trajectories):\n",
    "    x = np.stack(x)\n",
    "    plt.plot(x[:,0], x[:,1], label='iter {}'.format(i*10))\n",
    "\n",
    "plt.figure(2)\n",
    "plt.plot(np.stack(costs), label='iter {}'.format(i*10))\n",
    "plt.figure(1)\n",
    "plt.xlabel('x')\n",
    "plt.ylabel('y')\n",
    "plt.title('x-y trajectory')\n",
    "plt.legend()\n",
    "plt.figure(2)\n",
    "plt.xlabel('time step')\n",
    "plt.ylabel('cost')\n",
    "plt.title('cost over time')\n",
    "plt.legend()\n",
    "plt.show()"
   ]
  },
  {
   "cell_type": "markdown",
   "metadata": {},
   "source": [
    "We can see that each step works towards improving the cost function and completing the task. You can use this formation for almost any problem so long as it is not an impossible task and the system has continuous derivatives. Many of the most common optimal controllers and trajectory planners (like iLQR) work in similar ways where the focus is on improving the gradients for guaranteed convergence and improved speed ups."
   ]
  },
  {
   "cell_type": "markdown",
   "metadata": {},
   "source": [
    "Let's try using a different dynamical system with a different task. Here, we will use the planar quadrotor with the task of doing a backflip. The dynamics of the planar quadrotor are given by\n",
    "$$\n",
    "    \\frac{d}{dt}\\begin{bmatrix} x \\\\ y \\\\ \\theta \\\\ \\dot{x} \\\\ \\dot{y} \\\\ \\dot{\\theta}\\end{bmatrix} \n",
    "    = \\begin{bmatrix} \\dot{x} \\\\ \\dot{y} \\\\ \\dot{\\theta} \\\\ u_1 \\sin (\\theta) \\\\ u_1 \\cos (\\theta) -g \\\\ u_2\\end{bmatrix}\n",
    "$$\n",
    "where $g$ is gravity.\n",
    "\n",
    "The objective function is then defined as \n",
    "$$\n",
    "    \\ell(x,u) = 0.001 u^\\top u \\qquad m(x) = (\\vec{x} - \\vec{x}_d)^\\top Q (\\vec{x} - \\vec{x}_d)^\\top\n",
    "$$\n",
    "where $\\vec{x} = \\left[ x, y, \\theta, \\dot{x}, \\dot{y}, \\dot{\\theta} \\right]^\\top$, $\\vec{x}_d = \\left[ 8, 0 2 \\pi, 0, 0, 0 \\right]^\\top$, and  $Q = \\text{diag}\\left( 1, 1, 20, 0.1, 0.1, 20\\right)$. Below we write this out in the same way we wrote the model and the objective in the first example."
   ]
  },
  {
   "cell_type": "code",
   "execution_count": 8,
   "metadata": {
    "ExecuteTime": {
     "end_time": "2019-04-30T18:54:56.259116Z",
     "start_time": "2019-04-30T18:54:56.249782Z"
    }
   },
   "outputs": [],
   "source": [
    "@jit\n",
    "def f(x, u):\n",
    "    return np.array([x[3], x[4], x[5],\n",
    "                    u[0]* np.sin(x[2]),\n",
    "                    u[0]* np.cos(x[2]) - 9.81,\n",
    "                    u[1]])\n",
    "@jit\n",
    "def ell(x, u):\n",
    "    return 1e-3 * np.dot(u, u)\n",
    "@jit\n",
    "def m(x):\n",
    "    target = np.array([4, 0., 2.0 * np.pi, 0., 0., 0.])\n",
    "    weights = np.array([1.0, 1.0, 20., 0.1, 0.1, 20.])\n",
    "    dx = x - target\n",
    "    return np.sum(np.square(dx) * weights)\n",
    "\n",
    "@jit\n",
    "def dfdx(x, u):\n",
    "    return jacfwd(f,0)(x, u)\n",
    "@jit\n",
    "def dfdu(x, u):\n",
    "    return jacfwd(f,1)(x, u)\n",
    "@jit\n",
    "def dldx(x, u):\n",
    "    return grad(ell)(x, u)\n",
    "@jit\n",
    "def dldu(x, u):\n",
    "    return grad(ell, 1)(x, u)\n",
    "@jit\n",
    "def dmdx(x):\n",
    "    return grad(m)(x)\n"
   ]
  },
  {
   "cell_type": "markdown",
   "metadata": {},
   "source": [
    "We reinitialize the environment and updated the parameters and the initial seed $u(t)$. You should play with these parameters to see their effect on the resulting control signal and the state. "
   ]
  },
  {
   "cell_type": "code",
   "execution_count": 9,
   "metadata": {
    "ExecuteTime": {
     "end_time": "2019-04-30T18:54:56.461621Z",
     "start_time": "2019-04-30T18:54:56.260746Z"
    }
   },
   "outputs": [],
   "source": [
    "# some parameters \n",
    "max_iter  = 200\n",
    "tf        = 40\n",
    "threshold = 0.01\n",
    "step_size = 3e-4\n",
    "dt        = 0.1\n",
    "\n",
    "# initialize the control with a random sequence of actions\n",
    "u = [np.array([15., .2]) for t in range(tf)]\n",
    "x0 = np.array([0., 0., 0., 0., 0., 0.])"
   ]
  },
  {
   "cell_type": "code",
   "execution_count": 10,
   "metadata": {
    "ExecuteTime": {
     "end_time": "2019-04-30T18:55:39.953257Z",
     "start_time": "2019-04-30T18:54:56.463301Z"
    }
   },
   "outputs": [
    {
     "name": "stdout",
     "output_type": "stream",
     "text": [
      "iter  0  cost  2065.1313 0.0003\n",
      "iter  20  cost  174.74812 0.0003\n",
      "iter  40  cost  115.30487 0.0003\n",
      "iter  60  cost  87.03828 0.0003\n",
      "iter  80  cost  67.70242 0.0003\n",
      "iter  100  cost  52.870796 0.0003\n",
      "iter  120  cost  41.40596 0.0003\n",
      "iter  140  cost  32.6738 0.0003\n",
      "iter  160  cost  26.131119 0.0003\n",
      "iter  180  cost  21.297693 0.0003\n"
     ]
    }
   ],
   "source": [
    "trajectories = []\n",
    "costs = []\n",
    "for k in range(max_iter):\n",
    "    x, cost, x_f = forward_pass(x0, u, dt)\n",
    "    u = backward_pass(x, u, x_f, dt, step_size)\n",
    "    cost += m(x_f)\n",
    "    if k % 20 == 0:\n",
    "        print('iter ', k, ' cost ', cost, step_size)\n",
    "        # for plotting later\n",
    "        trajectories.append(x)\n",
    "        costs.append(cost)"
   ]
  },
  {
   "cell_type": "code",
   "execution_count": 11,
   "metadata": {
    "ExecuteTime": {
     "end_time": "2019-04-30T18:55:40.456771Z",
     "start_time": "2019-04-30T18:55:39.955064Z"
    }
   },
   "outputs": [
    {
     "data": {
      "text/plain": [
       "[<matplotlib.lines.Line2D at 0x7f532c172a90>]"
      ]
     },
     "execution_count": 11,
     "metadata": {},
     "output_type": "execute_result"
    },
    {
     "data": {
      "image/png": "[encoded data removed]",
      "text/plain": [
       "<Figure size 432x288 with 1 Axes>"
      ]
     },
     "metadata": {
      "needs_background": "light"
     },
     "output_type": "display_data"
    },
    {
     "data": {
      "image/png": "[encoded data removed]",
      "text/plain": [
       "<Figure size 432x288 with 1 Axes>"
      ]
     },
     "metadata": {
      "needs_background": "light"
     },
     "output_type": "display_data"
    }
   ],
   "source": [
    "for i, x in enumerate(trajectories[1:]):\n",
    "    x = np.stack(x)\n",
    "    plt.plot(x[:,0], x[:,1],label='iter {}'.format(i*10))\n",
    "\n",
    "plt.figure(2)\n",
    "plt.plot(costs[1:])\n",
    "# plt.figure(1)\n",
    "# plt.xlabel('x')\n",
    "# plt.ylabel('y')\n",
    "# plt.title('x-y trajectory')\n",
    "# plt.legend()\n",
    "# plt.figure(2)\n",
    "# plt.xlabel('time step')\n",
    "# plt.ylabel('cost')\n",
    "# plt.title('cost over time')\n",
    "# plt.legend()\n",
    "\n",
    "# plt.figure(3)\n",
    "# plt.xlabel('time step')\n",
    "# plt.ylabel('\\theta')\n",
    "# plt.title('angle over time')\n",
    "# plt.legend()\n",
    "# plt.show()"
   ]
  },
  {
   "cell_type": "code",
   "execution_count": 12,
   "metadata": {},
   "outputs": [],
   "source": [
    "import jax.numpy as jnp\n",
    "import numpy as np"
   ]
  },
  {
   "cell_type": "code",
   "execution_count": 13,
   "metadata": {},
   "outputs": [],
   "source": [
    "@jit\n",
    "def g(x):\n",
    "    return jnp.outer(x, x)\n",
    "@jit\n",
    "def dg(x):\n",
    "    return jacfwd(g)(x)"
   ]
  },
  {
   "cell_type": "code",
   "execution_count": 14,
   "metadata": {},
   "outputs": [
    {
     "name": "stdout",
     "output_type": "stream",
     "text": [
      "252 µs ± 24.1 µs per loop (mean ± std. dev. of 7 runs, 1000 loops each)\n"
     ]
    }
   ],
   "source": [
    "x = np.random.normal(0., 0.1, size=(3,2))\n",
    "%timeit vmap(dg)(x)"
   ]
  },
  {
   "cell_type": "code",
   "execution_count": 183,
   "metadata": {},
   "outputs": [],
   "source": [
    "@jit\n",
    "def f(x):\n",
    "    A = jnp.eye(2)\n",
    "    return jnp.dot(A, x)"
   ]
  },
  {
   "cell_type": "code",
   "execution_count": 197,
   "metadata": {},
   "outputs": [
    {
     "name": "stdout",
     "output_type": "stream",
     "text": [
      "93.6 µs ± 5.77 µs per loop (mean ± std. dev. of 7 runs, 10000 loops each)\n"
     ]
    }
   ],
   "source": [
    "x = np.random.normal(0., 0.1, size=(2,))\n",
    "%timeit f(x)"
   ]
  },
  {
   "cell_type": "code",
   "execution_count": 198,
   "metadata": {},
   "outputs": [],
   "source": [
    "def np_f(x):\n",
    "    A = np.eye(2)\n",
    "    return np.dot(A, x)"
   ]
  },
  {
   "cell_type": "code",
   "execution_count": 201,
   "metadata": {},
   "outputs": [
    {
     "name": "stdout",
     "output_type": "stream",
     "text": [
      "1.98 µs ± 59.2 ns per loop (mean ± std. dev. of 7 runs, 100000 loops each)\n"
     ]
    }
   ],
   "source": [
    "x = np.random.normal(0., 0.1, size=(2,))\n",
    "%timeit np_f(x)"
   ]
  },
  {
   "cell_type": "code",
   "execution_count": 15,
   "metadata": {},
   "outputs": [],
   "source": [
    "from jax import random"
   ]
  },
  {
   "cell_type": "code",
   "execution_count": 49,
   "metadata": {},
   "outputs": [],
   "source": [
    "key = random.PRNGKey(0)\n"
   ]
  },
  {
   "cell_type": "code",
   "execution_count": 60,
   "metadata": {},
   "outputs": [
    {
     "data": {
      "text/plain": [
       "DeviceArray([4], dtype=int32)"
      ]
     },
     "execution_count": 60,
     "metadata": {},
     "output_type": "execute_result"
    }
   ],
   "source": [
    "key, seed = random.split(key)\n",
    "random.randint(key, (1,), 0,10)"
   ]
  },
  {
   "cell_type": "code",
   "execution_count": 62,
   "metadata": {},
   "outputs": [
    {
     "data": {
      "text/plain": [
       "array([3883061462, 2802703533], dtype=uint32)"
      ]
     },
     "execution_count": 62,
     "metadata": {},
     "output_type": "execute_result"
    }
   ],
   "source": [
    "key"
   ]
  },
  {
   "cell_type": "code",
   "execution_count": 54,
   "metadata": {},
   "outputs": [
    {
     "data": {
      "text/plain": [
       "DeviceArray([2718843009, 1272950319], dtype=uint32)"
      ]
     },
     "execution_count": 54,
     "metadata": {},
     "output_type": "execute_result"
    }
   ],
   "source": [
    "key[1]"
   ]
  },
  {
   "cell_type": "code",
   "execution_count": null,
   "metadata": {},
   "outputs": [],
   "source": []
  }
 ],
 "metadata": {
  "kernelspec": {
   "display_name": "Python 3",
   "language": "python",
   "name": "python3"
  },
  "language_info": {
   "codemirror_mode": {
    "name": "ipython",
    "version": 3
   },
   "file_extension": ".py",
   "mimetype": "text/x-python",
   "name": "python",
   "nbconvert_exporter": "python",
   "pygments_lexer": "ipython3",
   "version": "3.6.9"
  },
  "latex_envs": {
   "LaTeX_envs_menu_present": true,
   "autoclose": false,
   "autocomplete": true,
   "bibliofile": "biblio.bib",
   "cite_by": "apalike",
   "current_citInitial": 1,
   "eqLabelWithNumbers": true,
   "eqNumInitial": 1,
   "hotkeys": {
    "equation": "Ctrl-E",
    "itemize": "Ctrl-I"
   },
   "labels_anchors": false,
   "latex_user_defs": false,
   "report_style_numbering": false,
   "user_envs_cfg": false
  },
  "toc": {
   "base_numbering": 1,
   "nav_menu": {},
   "number_sections": true,
   "sideBar": true,
   "skip_h1_title": false,
   "title_cell": "Table of Contents",
   "title_sidebar": "Contents",
   "toc_cell": false,
   "toc_position": {
    "height": "calc(100% - 180px)",
    "left": "10px",
    "top": "150px",
    "width": "165px"
   },
   "toc_section_display": true,
   "toc_window_display": false
  },
  "varInspector": {
   "cols": {
    "lenName": 16,
    "lenType": 16,
    "lenVar": 40
   },
   "kernels_config": {
    "python": {
     "delete_cmd_postfix": "",
     "delete_cmd_prefix": "del ",
     "library": "var_list.py",
     "varRefreshCmd": "print(var_dic_list())"
    },
    "r": {
     "delete_cmd_postfix": ") ",
     "delete_cmd_prefix": "rm(",
     "library": "var_list.r",
     "varRefreshCmd": "cat(var_dic_list()) "
    }
   },
   "types_to_exclude": [
    "module",
    "function",
    "builtin_function_or_method",
    "instance",
    "_Feature"
   ],
   "window_display": false
  }
 },
 "nbformat": 4,
 "nbformat_minor": 4
}
