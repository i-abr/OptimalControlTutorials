{
 "cells": [
  {
   "cell_type": "code",
   "execution_count": 1,
   "metadata": {},
   "outputs": [],
   "source": [
    "import numpy as np\n",
    "from vtol import VTOLEnv"
   ]
  },
  {
   "cell_type": "code",
   "execution_count": 2,
   "metadata": {},
   "outputs": [],
   "source": [
    "env = VTOLEnv()"
   ]
  },
  {
   "cell_type": "code",
   "execution_count": 3,
   "metadata": {},
   "outputs": [
    {
     "name": "stdout",
     "output_type": "stream",
     "text": [
      "[0. 0. 0.] [0. 0. 0. 0. 0. 0.]\n"
     ]
    },
    {
     "data": {
      "text/plain": [
       "True"
      ]
     },
     "execution_count": 3,
     "metadata": {},
     "output_type": "execute_result"
    }
   ],
   "source": [
    "env.render()"
   ]
  },
  {
   "cell_type": "code",
   "execution_count": 38,
   "metadata": {},
   "outputs": [
    {
     "name": "stdout",
     "output_type": "stream",
     "text": [
      "[-1.24744894 -0.22252343  0.581     ] [-1.24744894 -0.22252343  0.581      -4.10907805 -1.06322625 -0.32      ]\n",
      "[-1.28853972 -0.23315569  0.5778    ] [-1.28853972 -0.23315569  0.5778     -4.17232321 -1.08322343 -0.34      ]\n",
      "[-1.33026295 -0.24398792  0.5744    ] [-1.33026295 -0.24398792  0.5744     -4.23531811 -1.10301862 -0.36      ]\n",
      "[-1.37261613 -0.25501811  0.5708    ] [-1.37261613 -0.25501811  0.5708     -4.29804641 -1.12260009 -0.38      ]\n",
      "[-1.41559659 -0.26624411  0.567     ] [-1.41559659 -0.26624411  0.567      -4.36049164 -1.14195625 -0.4       ]\n",
      "[-1.45920151 -0.27766367  0.563     ] [-1.45920151 -0.27766367  0.563      -4.42263719 -1.16107568 -0.42      ]\n",
      "[-1.50342788 -0.28927443  0.5588    ] [-1.50342788 -0.28927443  0.5588     -4.48446633 -1.17994716 -0.44      ]\n",
      "[-1.54827255 -0.3010739   0.5544    ] [-1.54827255 -0.3010739   0.5544     -4.54596216 -1.19855966 -0.46      ]\n",
      "[-1.59373217 -0.3130595   0.5498    ] [-1.59373217 -0.3130595   0.5498     -4.60710765 -1.21690234 -0.48      ]\n",
      "[-1.63980324 -0.32522852  0.545     ] [-1.63980324 -0.32522852  0.545      -4.66788561 -1.23496461 -0.5       ]\n"
     ]
    }
   ],
   "source": [
    "for i in range(10):\n",
    "    env.step(np.array([10.,-2.]))\n",
    "    env.render()"
   ]
  },
  {
   "cell_type": "code",
   "execution_count": 26,
   "metadata": {},
   "outputs": [
    {
     "name": "stdout",
     "output_type": "stream",
     "text": [
      "[0.0102269  0.00401631 0.021     ] [0.0102269  0.00401631 0.021      0.14089491 0.04075665 0.3       ]\n"
     ]
    },
    {
     "data": {
      "text/plain": [
       "True"
      ]
     },
     "execution_count": 26,
     "metadata": {},
     "output_type": "execute_result"
    }
   ],
   "source": [
    "env.render()"
   ]
  },
  {
   "cell_type": "code",
   "execution_count": 24,
   "metadata": {},
   "outputs": [
    {
     "data": {
      "text/plain": [
       "array([0.000999  , 0.0010451 , 0.002     , 0.04979999, 0.02091991,\n",
       "       0.1       ])"
      ]
     },
     "execution_count": 24,
     "metadata": {},
     "output_type": "execute_result"
    }
   ],
   "source": [
    "env.state"
   ]
  },
  {
   "cell_type": "code",
   "execution_count": null,
   "metadata": {},
   "outputs": [],
   "source": []
  }
 ],
 "metadata": {
  "kernelspec": {
   "display_name": "Python 3",
   "language": "python",
   "name": "python3"
  },
  "language_info": {
   "codemirror_mode": {
    "name": "ipython",
    "version": 3
   },
   "file_extension": ".py",
   "mimetype": "text/x-python",
   "name": "python",
   "nbconvert_exporter": "python",
   "pygments_lexer": "ipython3",
   "version": "3.6.9"
  }
 },
 "nbformat": 4,
 "nbformat_minor": 4
}
